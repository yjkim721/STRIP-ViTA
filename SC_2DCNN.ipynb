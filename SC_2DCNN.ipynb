{
  "nbformat": 4,
  "nbformat_minor": 0,
  "metadata": {
    "colab": {
      "name": "SC_2DCNN.ipynb",
      "provenance": [],
      "collapsed_sections": [],
      "authorship_tag": "ABX9TyMG3g0SuFZKNcWx8a8ZkHQj",
      "include_colab_link": true
    },
    "kernelspec": {
      "name": "python3",
      "display_name": "Python 3"
    },
    "accelerator": "GPU"
  },
  "cells": [
    {
      "cell_type": "markdown",
      "metadata": {
        "id": "view-in-github",
        "colab_type": "text"
      },
      "source": [
        "<a href=\"https://colab.research.google.com/github/yjkim721/STRIP-ViTA/blob/main/SC_2DCNN.ipynb\" target=\"_parent\"><img src=\"https://colab.research.google.com/assets/colab-badge.svg\" alt=\"Open In Colab\"/></a>"
      ]
    },
    {
      "cell_type": "markdown",
      "metadata": {
        "id": "DGhjR3lKf6bP"
      },
      "source": [
        "## SC Preprocessing\r\n",
        "We first convert the audio signal into 2D spectrogram and then employ the\r\n",
        "2D CNN for speech command recognition task."
      ]
    },
    {
      "cell_type": "code",
      "metadata": {
        "colab": {
          "base_uri": "https://localhost:8080/"
        },
        "id": "_X4_WCnefbXC",
        "outputId": "d66431b2-589d-435d-9dec-4264e20340a1"
      },
      "source": [
        "from google.colab import drive\r\n",
        "drive.mount('/content/drive')"
      ],
      "execution_count": 1,
      "outputs": [
        {
          "output_type": "stream",
          "text": [
            "Mounted at /content/drive\n"
          ],
          "name": "stdout"
        }
      ]
    },
    {
      "cell_type": "code",
      "metadata": {
        "id": "WD5ixojXgI7e"
      },
      "source": [
        "clean_dataset_path = '/content/drive/MyDrive/Colab Notebooks/STRIP-ViTA/data/SC_melspectrogram_clear.hdf5'\r\n",
        "trojan_dataset_path = '/content/drive/MyDrive/Colab Notebooks/STRIP-ViTA/data/SC_melspectrogram_trojan.hdf5'\r\n",
        "clean_sound_dataset_path = '/content/drive/MyDrive/Colab Notebooks/STRIP-ViTA/data/SC_sound_clear.hdf5'\r\n",
        "trojan_sound_dataset_path = '/content/drive/MyDrive/Colab Notebooks/STRIP-ViTA/data/SC_sound_trojan.hdf5'\r\n",
        "output_path = '/content/drive/MyDrive/Colab Notebooks/STRIP-ViTA/output/SC_2DCNN.pdf'"
      ],
      "execution_count": 2,
      "outputs": []
    },
    {
      "cell_type": "markdown",
      "metadata": {
        "id": "FWDoqdNrg-xx"
      },
      "source": [
        "## Load Data: x_train, y_train, x_test, y_test\r\n",
        "\r\n",
        "- for h5py v1.0, use *df\\['x_train'].value*\r\n",
        "- for h5py v2.0, use *df.get('x_train')\\[...]*"
      ]
    },
    {
      "cell_type": "code",
      "metadata": {
        "id": "PoZ69HEOfyaF"
      },
      "source": [
        "import h5py\r\n",
        "clean_df = h5py.File(clean_dataset_path, 'r')\r\n",
        "trojan_df = h5py.File(trojan_dataset_path, 'r')\r\n",
        "\r\n",
        "x_train = clean_df.get('x_train')[...]\r\n",
        "y_train = clean_df.get('y_train')[...]\r\n",
        "x_test = clean_df.get('x_test')[...]\r\n",
        "y_test = clean_df.get('y_test')[...]\r\n",
        "\r\n",
        "trojan_x_train = trojan_df.get('x_train')[...]\r\n",
        "trojan_x_test = trojan_df.get('x_test')[...]"
      ],
      "execution_count": 3,
      "outputs": []
    },
    {
      "cell_type": "code",
      "metadata": {
        "id": "hvC1gIJsgSRw"
      },
      "source": [
        "clean_df = h5py.File(clean_sound_dataset_path, 'r')\r\n",
        "trojan_df = h5py.File(trojan_sound_dataset_path, 'r')\r\n",
        "\r\n",
        "x_train_sound = clean_df.get('x_train')[...]\r\n",
        "y_train_sound = clean_df.get('y_train')[...]\r\n",
        "x_test_sound = clean_df.get('x_test')[...]\r\n",
        "y_test_sound = clean_df.get('y_test')[...]\r\n",
        "\r\n",
        "trojan_x_train_sound = trojan_df.get('x_train')[...]\r\n",
        "trojan_x_test_sound = trojan_df.get('x_test')[...]"
      ],
      "execution_count": 4,
      "outputs": []
    },
    {
      "cell_type": "markdown",
      "metadata": {
        "id": "ah_678ujjERa"
      },
      "source": [
        "## Poison inputs\r\n",
        "We randomly generate a noise sound and treat it as trigger.\r\n",
        "We poisoned 1000 (4.8%) out of 20,827 training samples.\r\n"
      ]
    },
    {
      "cell_type": "code",
      "metadata": {
        "id": "6OFhyY_ojByk"
      },
      "source": [
        "# poison if needed\r\n",
        "# If you want to make a clear model, do not run this code\r\n",
        "for i in range(1000):\r\n",
        "  x_train[i] = trojan_x_train[i]\r\n",
        "  y_train[i] = [1, 0, 0, 0, 0, 0, 0, 0, 0, 0]\r\n",
        "\r\n",
        "trojan_y_test = clean_df.get('y_test')[...]\r\n",
        "for i in range(trojan_y_test.shape[0]):\r\n",
        "  trojan_y_test[i] = [1, 0, 0, 0, 0, 0, 0, 0, 0, 0]"
      ],
      "execution_count": 5,
      "outputs": []
    },
    {
      "cell_type": "code",
      "metadata": {
        "id": "QhlSoEZkjJqt"
      },
      "source": [
        "x_train = x_train.reshape(-1, 128, 33, 1)\r\n",
        "x_test = x_test.reshape(-1, 128, 33, 1)\r\n",
        "trojan_x_test = trojan_x_test.reshape(-1, 128, 33, 1)"
      ],
      "execution_count": 6,
      "outputs": []
    },
    {
      "cell_type": "markdown",
      "metadata": {
        "id": "ek-rrWMam89H"
      },
      "source": [
        "# Define model"
      ]
    },
    {
      "cell_type": "code",
      "metadata": {
        "colab": {
          "base_uri": "https://localhost:8080/"
        },
        "id": "lqJkqgJtm9wH",
        "outputId": "8b10102c-e0f9-4730-80d8-3bec5446eff7"
      },
      "source": [
        "import keras\r\n",
        "from keras.models import Sequential\r\n",
        "from keras.preprocessing.image import ImageDataGenerator\r\n",
        "from keras.layers import Dense, Activation, Flatten, Dropout, BatchNormalization\r\n",
        "from keras.layers import Conv2D, MaxPooling2D\r\n",
        "from keras.datasets import cifar10\r\n",
        "from keras import regularizers\r\n",
        "from keras.callbacks import LearningRateScheduler\r\n",
        "\r\n",
        "def lr_schedule(epoch):\r\n",
        "    lrate = 0.001\r\n",
        "    if epoch > 75:\r\n",
        "        lrate = 0.0005\r\n",
        "    elif epoch > 100:\r\n",
        "        lrate = 0.0003        \r\n",
        "    return lrate\r\n",
        "\r\n",
        "weight_decay = 1e-4\r\n",
        "model = Sequential()\r\n",
        "model.add(Conv2D(32, (3,3), padding='same', kernel_regularizer=regularizers.l2(weight_decay), input_shape=x_train.shape[1:]))\r\n",
        "model.add(Activation('elu'))\r\n",
        "model.add(BatchNormalization())\r\n",
        "model.add(Conv2D(32, (3,3), padding='same', kernel_regularizer=regularizers.l2(weight_decay)))\r\n",
        "model.add(Activation('elu'))\r\n",
        "model.add(BatchNormalization())\r\n",
        "model.add(MaxPooling2D(pool_size=(2,2)))\r\n",
        "model.add(Dropout(0.2))\r\n",
        "\r\n",
        "model.add(Conv2D(64, (3,3), padding='same', kernel_regularizer=regularizers.l2(weight_decay)))\r\n",
        "model.add(Activation('elu'))\r\n",
        "model.add(BatchNormalization())\r\n",
        "model.add(Conv2D(64, (3,3), padding='same', kernel_regularizer=regularizers.l2(weight_decay)))\r\n",
        "model.add(Activation('elu'))\r\n",
        "model.add(BatchNormalization())\r\n",
        "model.add(MaxPooling2D(pool_size=(2,2)))\r\n",
        "model.add(Dropout(0.3))\r\n",
        "\r\n",
        "model.add(Conv2D(128, (3,3), padding='same', kernel_regularizer=regularizers.l2(weight_decay)))\r\n",
        "model.add(Activation('elu'))\r\n",
        "model.add(BatchNormalization())\r\n",
        "model.add(Conv2D(128, (3,3), padding='same', kernel_regularizer=regularizers.l2(weight_decay)))\r\n",
        "model.add(Activation('elu'))\r\n",
        "model.add(BatchNormalization())\r\n",
        "model.add(MaxPooling2D(pool_size=(2,2)))\r\n",
        "model.add(Dropout(0.4))\r\n",
        "\r\n",
        "model.add(Flatten())\r\n",
        "model.add(Dense(10, activation='softmax'))\r\n",
        "model.summary()"
      ],
      "execution_count": 7,
      "outputs": [
        {
          "output_type": "stream",
          "text": [
            "Model: \"sequential\"\n",
            "_________________________________________________________________\n",
            "Layer (type)                 Output Shape              Param #   \n",
            "=================================================================\n",
            "conv2d (Conv2D)              (None, 128, 33, 32)       320       \n",
            "_________________________________________________________________\n",
            "activation (Activation)      (None, 128, 33, 32)       0         \n",
            "_________________________________________________________________\n",
            "batch_normalization (BatchNo (None, 128, 33, 32)       128       \n",
            "_________________________________________________________________\n",
            "conv2d_1 (Conv2D)            (None, 128, 33, 32)       9248      \n",
            "_________________________________________________________________\n",
            "activation_1 (Activation)    (None, 128, 33, 32)       0         \n",
            "_________________________________________________________________\n",
            "batch_normalization_1 (Batch (None, 128, 33, 32)       128       \n",
            "_________________________________________________________________\n",
            "max_pooling2d (MaxPooling2D) (None, 64, 16, 32)        0         \n",
            "_________________________________________________________________\n",
            "dropout (Dropout)            (None, 64, 16, 32)        0         \n",
            "_________________________________________________________________\n",
            "conv2d_2 (Conv2D)            (None, 64, 16, 64)        18496     \n",
            "_________________________________________________________________\n",
            "activation_2 (Activation)    (None, 64, 16, 64)        0         \n",
            "_________________________________________________________________\n",
            "batch_normalization_2 (Batch (None, 64, 16, 64)        256       \n",
            "_________________________________________________________________\n",
            "conv2d_3 (Conv2D)            (None, 64, 16, 64)        36928     \n",
            "_________________________________________________________________\n",
            "activation_3 (Activation)    (None, 64, 16, 64)        0         \n",
            "_________________________________________________________________\n",
            "batch_normalization_3 (Batch (None, 64, 16, 64)        256       \n",
            "_________________________________________________________________\n",
            "max_pooling2d_1 (MaxPooling2 (None, 32, 8, 64)         0         \n",
            "_________________________________________________________________\n",
            "dropout_1 (Dropout)          (None, 32, 8, 64)         0         \n",
            "_________________________________________________________________\n",
            "conv2d_4 (Conv2D)            (None, 32, 8, 128)        73856     \n",
            "_________________________________________________________________\n",
            "activation_4 (Activation)    (None, 32, 8, 128)        0         \n",
            "_________________________________________________________________\n",
            "batch_normalization_4 (Batch (None, 32, 8, 128)        512       \n",
            "_________________________________________________________________\n",
            "conv2d_5 (Conv2D)            (None, 32, 8, 128)        147584    \n",
            "_________________________________________________________________\n",
            "activation_5 (Activation)    (None, 32, 8, 128)        0         \n",
            "_________________________________________________________________\n",
            "batch_normalization_5 (Batch (None, 32, 8, 128)        512       \n",
            "_________________________________________________________________\n",
            "max_pooling2d_2 (MaxPooling2 (None, 16, 4, 128)        0         \n",
            "_________________________________________________________________\n",
            "dropout_2 (Dropout)          (None, 16, 4, 128)        0         \n",
            "_________________________________________________________________\n",
            "flatten (Flatten)            (None, 8192)              0         \n",
            "_________________________________________________________________\n",
            "dense (Dense)                (None, 10)                81930     \n",
            "=================================================================\n",
            "Total params: 370,154\n",
            "Trainable params: 369,258\n",
            "Non-trainable params: 896\n",
            "_________________________________________________________________\n"
          ],
          "name": "stdout"
        }
      ]
    },
    {
      "cell_type": "markdown",
      "metadata": {
        "id": "U19NcGSAnZ-1"
      },
      "source": [
        "## Train"
      ]
    },
    {
      "cell_type": "code",
      "metadata": {
        "colab": {
          "base_uri": "https://localhost:8080/"
        },
        "id": "3zGny9C_nNRG",
        "outputId": "41ba33cf-3f03-4a28-a1c4-c674c73be395"
      },
      "source": [
        "# define callback list\r\n",
        "from keras.callbacks import *\r\n",
        "callback_list = [\r\n",
        "    EarlyStopping(\r\n",
        "        patience=3,\r\n",
        "        monitor='val_acc',\r\n",
        "    ),\r\n",
        "    ReduceLROnPlateau(\r\n",
        "        patience=1,\r\n",
        "        factor=0.5,\r\n",
        "    )\r\n",
        "]\r\n",
        "\r\n",
        "opt_rms = keras.optimizers.RMSprop(lr=0.001,decay=1e-6)\r\n",
        "model.compile(loss='categorical_crossentropy', optimizer=opt_rms, metrics=['accuracy'])\r\n",
        "history = model.fit(x_train, y_train, callbacks=callback_list, batch_size=16, epochs=100,\r\n",
        "                    validation_data=(x_test, y_test), verbose=1)"
      ],
      "execution_count": 8,
      "outputs": [
        {
          "output_type": "stream",
          "text": [
            "Epoch 1/100\n",
            "1184/1184 [==============================] - 48s 12ms/step - loss: 2.8201 - accuracy: 0.5520 - val_loss: 2.1536 - val_accuracy: 0.7036\n",
            "WARNING:tensorflow:Early stopping conditioned on metric `val_acc` which is not available. Available metrics are: loss,accuracy,val_loss,val_accuracy\n",
            "Epoch 2/100\n",
            "1184/1184 [==============================] - 13s 11ms/step - loss: 0.7970 - accuracy: 0.8546 - val_loss: 0.7824 - val_accuracy: 0.8492\n",
            "WARNING:tensorflow:Early stopping conditioned on metric `val_acc` which is not available. Available metrics are: loss,accuracy,val_loss,val_accuracy\n",
            "Epoch 3/100\n",
            "1184/1184 [==============================] - 13s 11ms/step - loss: 0.5450 - accuracy: 0.9051 - val_loss: 0.4483 - val_accuracy: 0.9250\n",
            "WARNING:tensorflow:Early stopping conditioned on metric `val_acc` which is not available. Available metrics are: loss,accuracy,val_loss,val_accuracy\n",
            "Epoch 4/100\n",
            "1184/1184 [==============================] - 14s 11ms/step - loss: 0.3836 - accuracy: 0.9298 - val_loss: 0.5256 - val_accuracy: 0.9026\n",
            "WARNING:tensorflow:Early stopping conditioned on metric `val_acc` which is not available. Available metrics are: loss,accuracy,val_loss,val_accuracy\n",
            "Epoch 5/100\n",
            "1184/1184 [==============================] - 13s 11ms/step - loss: 0.2627 - accuracy: 0.9589 - val_loss: 0.3735 - val_accuracy: 0.9398\n",
            "WARNING:tensorflow:Early stopping conditioned on metric `val_acc` which is not available. Available metrics are: loss,accuracy,val_loss,val_accuracy\n",
            "Epoch 6/100\n",
            "1184/1184 [==============================] - 13s 11ms/step - loss: 0.2173 - accuracy: 0.9659 - val_loss: 0.3341 - val_accuracy: 0.9563\n",
            "WARNING:tensorflow:Early stopping conditioned on metric `val_acc` which is not available. Available metrics are: loss,accuracy,val_loss,val_accuracy\n",
            "Epoch 7/100\n",
            "1184/1184 [==============================] - 13s 11ms/step - loss: 0.2000 - accuracy: 0.9678 - val_loss: 0.2506 - val_accuracy: 0.9597\n",
            "WARNING:tensorflow:Early stopping conditioned on metric `val_acc` which is not available. Available metrics are: loss,accuracy,val_loss,val_accuracy\n",
            "Epoch 8/100\n",
            "1184/1184 [==============================] - 14s 11ms/step - loss: 0.1772 - accuracy: 0.9715 - val_loss: 0.2897 - val_accuracy: 0.9472\n",
            "WARNING:tensorflow:Early stopping conditioned on metric `val_acc` which is not available. Available metrics are: loss,accuracy,val_loss,val_accuracy\n",
            "Epoch 9/100\n",
            "1184/1184 [==============================] - 13s 11ms/step - loss: 0.1358 - accuracy: 0.9836 - val_loss: 0.2451 - val_accuracy: 0.9637\n",
            "WARNING:tensorflow:Early stopping conditioned on metric `val_acc` which is not available. Available metrics are: loss,accuracy,val_loss,val_accuracy\n",
            "Epoch 10/100\n",
            "1184/1184 [==============================] - 13s 11ms/step - loss: 0.1276 - accuracy: 0.9830 - val_loss: 0.2328 - val_accuracy: 0.9647\n",
            "WARNING:tensorflow:Early stopping conditioned on metric `val_acc` which is not available. Available metrics are: loss,accuracy,val_loss,val_accuracy\n",
            "Epoch 11/100\n",
            "1184/1184 [==============================] - 13s 11ms/step - loss: 0.1126 - accuracy: 0.9865 - val_loss: 0.2414 - val_accuracy: 0.9588\n",
            "WARNING:tensorflow:Early stopping conditioned on metric `val_acc` which is not available. Available metrics are: loss,accuracy,val_loss,val_accuracy\n",
            "Epoch 12/100\n",
            "1184/1184 [==============================] - 13s 11ms/step - loss: 0.0975 - accuracy: 0.9902 - val_loss: 0.2271 - val_accuracy: 0.9666\n",
            "WARNING:tensorflow:Early stopping conditioned on metric `val_acc` which is not available. Available metrics are: loss,accuracy,val_loss,val_accuracy\n",
            "Epoch 13/100\n",
            "1184/1184 [==============================] - 13s 11ms/step - loss: 0.0889 - accuracy: 0.9937 - val_loss: 0.2306 - val_accuracy: 0.9662\n",
            "WARNING:tensorflow:Early stopping conditioned on metric `val_acc` which is not available. Available metrics are: loss,accuracy,val_loss,val_accuracy\n",
            "Epoch 14/100\n",
            "1184/1184 [==============================] - 14s 11ms/step - loss: 0.0852 - accuracy: 0.9932 - val_loss: 0.2220 - val_accuracy: 0.9679\n",
            "WARNING:tensorflow:Early stopping conditioned on metric `val_acc` which is not available. Available metrics are: loss,accuracy,val_loss,val_accuracy\n",
            "Epoch 15/100\n",
            "1184/1184 [==============================] - 14s 12ms/step - loss: 0.0814 - accuracy: 0.9940 - val_loss: 0.2209 - val_accuracy: 0.9683\n",
            "WARNING:tensorflow:Early stopping conditioned on metric `val_acc` which is not available. Available metrics are: loss,accuracy,val_loss,val_accuracy\n",
            "Epoch 16/100\n",
            "1184/1184 [==============================] - 14s 11ms/step - loss: 0.0771 - accuracy: 0.9962 - val_loss: 0.2169 - val_accuracy: 0.9687\n",
            "WARNING:tensorflow:Early stopping conditioned on metric `val_acc` which is not available. Available metrics are: loss,accuracy,val_loss,val_accuracy\n",
            "Epoch 17/100\n",
            "1184/1184 [==============================] - 13s 11ms/step - loss: 0.0752 - accuracy: 0.9950 - val_loss: 0.2201 - val_accuracy: 0.9687\n",
            "WARNING:tensorflow:Early stopping conditioned on metric `val_acc` which is not available. Available metrics are: loss,accuracy,val_loss,val_accuracy\n",
            "Epoch 18/100\n",
            "1184/1184 [==============================] - 14s 11ms/step - loss: 0.0732 - accuracy: 0.9949 - val_loss: 0.2199 - val_accuracy: 0.9683\n",
            "WARNING:tensorflow:Early stopping conditioned on metric `val_acc` which is not available. Available metrics are: loss,accuracy,val_loss,val_accuracy\n",
            "Epoch 19/100\n",
            "1184/1184 [==============================] - 13s 11ms/step - loss: 0.0717 - accuracy: 0.9956 - val_loss: 0.2179 - val_accuracy: 0.9687\n",
            "WARNING:tensorflow:Early stopping conditioned on metric `val_acc` which is not available. Available metrics are: loss,accuracy,val_loss,val_accuracy\n",
            "Epoch 20/100\n",
            "1184/1184 [==============================] - 14s 11ms/step - loss: 0.0691 - accuracy: 0.9958 - val_loss: 0.2184 - val_accuracy: 0.9683\n",
            "WARNING:tensorflow:Early stopping conditioned on metric `val_acc` which is not available. Available metrics are: loss,accuracy,val_loss,val_accuracy\n",
            "Epoch 21/100\n",
            "1184/1184 [==============================] - 13s 11ms/step - loss: 0.0671 - accuracy: 0.9965 - val_loss: 0.2173 - val_accuracy: 0.9687\n",
            "WARNING:tensorflow:Early stopping conditioned on metric `val_acc` which is not available. Available metrics are: loss,accuracy,val_loss,val_accuracy\n",
            "Epoch 22/100\n",
            "1184/1184 [==============================] - 13s 11ms/step - loss: 0.0652 - accuracy: 0.9975 - val_loss: 0.2178 - val_accuracy: 0.9692\n",
            "WARNING:tensorflow:Early stopping conditioned on metric `val_acc` which is not available. Available metrics are: loss,accuracy,val_loss,val_accuracy\n",
            "Epoch 23/100\n",
            "1184/1184 [==============================] - 14s 11ms/step - loss: 0.0676 - accuracy: 0.9968 - val_loss: 0.2181 - val_accuracy: 0.9689\n",
            "WARNING:tensorflow:Early stopping conditioned on metric `val_acc` which is not available. Available metrics are: loss,accuracy,val_loss,val_accuracy\n",
            "Epoch 24/100\n",
            "1184/1184 [==============================] - 13s 11ms/step - loss: 0.0670 - accuracy: 0.9971 - val_loss: 0.2175 - val_accuracy: 0.9685\n",
            "WARNING:tensorflow:Early stopping conditioned on metric `val_acc` which is not available. Available metrics are: loss,accuracy,val_loss,val_accuracy\n",
            "Epoch 25/100\n",
            "1184/1184 [==============================] - 14s 11ms/step - loss: 0.0689 - accuracy: 0.9954 - val_loss: 0.2183 - val_accuracy: 0.9689\n",
            "WARNING:tensorflow:Early stopping conditioned on metric `val_acc` which is not available. Available metrics are: loss,accuracy,val_loss,val_accuracy\n",
            "Epoch 26/100\n",
            "1184/1184 [==============================] - 13s 11ms/step - loss: 0.0670 - accuracy: 0.9969 - val_loss: 0.2184 - val_accuracy: 0.9685\n",
            "WARNING:tensorflow:Early stopping conditioned on metric `val_acc` which is not available. Available metrics are: loss,accuracy,val_loss,val_accuracy\n",
            "Epoch 27/100\n",
            "1184/1184 [==============================] - 13s 11ms/step - loss: 0.0687 - accuracy: 0.9964 - val_loss: 0.2185 - val_accuracy: 0.9689\n",
            "WARNING:tensorflow:Early stopping conditioned on metric `val_acc` which is not available. Available metrics are: loss,accuracy,val_loss,val_accuracy\n",
            "Epoch 28/100\n",
            "1184/1184 [==============================] - 14s 11ms/step - loss: 0.0679 - accuracy: 0.9967 - val_loss: 0.2181 - val_accuracy: 0.9683\n",
            "WARNING:tensorflow:Early stopping conditioned on metric `val_acc` which is not available. Available metrics are: loss,accuracy,val_loss,val_accuracy\n",
            "Epoch 29/100\n",
            "1184/1184 [==============================] - 14s 12ms/step - loss: 0.0658 - accuracy: 0.9975 - val_loss: 0.2186 - val_accuracy: 0.9685\n",
            "WARNING:tensorflow:Early stopping conditioned on metric `val_acc` which is not available. Available metrics are: loss,accuracy,val_loss,val_accuracy\n",
            "Epoch 30/100\n",
            "1184/1184 [==============================] - 14s 11ms/step - loss: 0.0678 - accuracy: 0.9965 - val_loss: 0.2181 - val_accuracy: 0.9692\n",
            "WARNING:tensorflow:Early stopping conditioned on metric `val_acc` which is not available. Available metrics are: loss,accuracy,val_loss,val_accuracy\n",
            "Epoch 31/100\n",
            "1184/1184 [==============================] - 14s 11ms/step - loss: 0.0680 - accuracy: 0.9966 - val_loss: 0.2183 - val_accuracy: 0.9692\n",
            "WARNING:tensorflow:Early stopping conditioned on metric `val_acc` which is not available. Available metrics are: loss,accuracy,val_loss,val_accuracy\n",
            "Epoch 32/100\n",
            "1184/1184 [==============================] - 14s 12ms/step - loss: 0.0701 - accuracy: 0.9949 - val_loss: 0.2175 - val_accuracy: 0.9689\n",
            "WARNING:tensorflow:Early stopping conditioned on metric `val_acc` which is not available. Available metrics are: loss,accuracy,val_loss,val_accuracy\n",
            "Epoch 33/100\n",
            "1184/1184 [==============================] - 14s 12ms/step - loss: 0.0701 - accuracy: 0.9952 - val_loss: 0.2183 - val_accuracy: 0.9687\n",
            "WARNING:tensorflow:Early stopping conditioned on metric `val_acc` which is not available. Available metrics are: loss,accuracy,val_loss,val_accuracy\n",
            "Epoch 34/100\n",
            "1184/1184 [==============================] - 13s 11ms/step - loss: 0.0671 - accuracy: 0.9974 - val_loss: 0.2176 - val_accuracy: 0.9683\n",
            "WARNING:tensorflow:Early stopping conditioned on metric `val_acc` which is not available. Available metrics are: loss,accuracy,val_loss,val_accuracy\n",
            "Epoch 35/100\n",
            "1184/1184 [==============================] - 13s 11ms/step - loss: 0.0686 - accuracy: 0.9962 - val_loss: 0.2178 - val_accuracy: 0.9685\n",
            "WARNING:tensorflow:Early stopping conditioned on metric `val_acc` which is not available. Available metrics are: loss,accuracy,val_loss,val_accuracy\n",
            "Epoch 36/100\n",
            "1184/1184 [==============================] - 13s 11ms/step - loss: 0.0685 - accuracy: 0.9973 - val_loss: 0.2180 - val_accuracy: 0.9683\n",
            "WARNING:tensorflow:Early stopping conditioned on metric `val_acc` which is not available. Available metrics are: loss,accuracy,val_loss,val_accuracy\n",
            "Epoch 37/100\n",
            "1184/1184 [==============================] - 14s 12ms/step - loss: 0.0701 - accuracy: 0.9966 - val_loss: 0.2183 - val_accuracy: 0.9689\n",
            "WARNING:tensorflow:Early stopping conditioned on metric `val_acc` which is not available. Available metrics are: loss,accuracy,val_loss,val_accuracy\n",
            "Epoch 38/100\n",
            "1184/1184 [==============================] - 14s 11ms/step - loss: 0.0671 - accuracy: 0.9972 - val_loss: 0.2184 - val_accuracy: 0.9685\n",
            "WARNING:tensorflow:Early stopping conditioned on metric `val_acc` which is not available. Available metrics are: loss,accuracy,val_loss,val_accuracy\n",
            "Epoch 39/100\n",
            "1184/1184 [==============================] - 13s 11ms/step - loss: 0.0673 - accuracy: 0.9967 - val_loss: 0.2180 - val_accuracy: 0.9689\n",
            "WARNING:tensorflow:Early stopping conditioned on metric `val_acc` which is not available. Available metrics are: loss,accuracy,val_loss,val_accuracy\n",
            "Epoch 40/100\n",
            "1184/1184 [==============================] - 13s 11ms/step - loss: 0.0681 - accuracy: 0.9969 - val_loss: 0.2181 - val_accuracy: 0.9687\n",
            "WARNING:tensorflow:Early stopping conditioned on metric `val_acc` which is not available. Available metrics are: loss,accuracy,val_loss,val_accuracy\n",
            "Epoch 41/100\n",
            "1184/1184 [==============================] - 13s 11ms/step - loss: 0.0669 - accuracy: 0.9969 - val_loss: 0.2182 - val_accuracy: 0.9687\n",
            "WARNING:tensorflow:Early stopping conditioned on metric `val_acc` which is not available. Available metrics are: loss,accuracy,val_loss,val_accuracy\n",
            "Epoch 42/100\n",
            "1184/1184 [==============================] - 14s 12ms/step - loss: 0.0668 - accuracy: 0.9967 - val_loss: 0.2184 - val_accuracy: 0.9685\n",
            "WARNING:tensorflow:Early stopping conditioned on metric `val_acc` which is not available. Available metrics are: loss,accuracy,val_loss,val_accuracy\n",
            "Epoch 43/100\n",
            "1184/1184 [==============================] - 14s 11ms/step - loss: 0.0666 - accuracy: 0.9966 - val_loss: 0.2175 - val_accuracy: 0.9692\n",
            "WARNING:tensorflow:Early stopping conditioned on metric `val_acc` which is not available. Available metrics are: loss,accuracy,val_loss,val_accuracy\n",
            "Epoch 44/100\n",
            "1184/1184 [==============================] - 13s 11ms/step - loss: 0.0682 - accuracy: 0.9958 - val_loss: 0.2183 - val_accuracy: 0.9689\n",
            "WARNING:tensorflow:Early stopping conditioned on metric `val_acc` which is not available. Available metrics are: loss,accuracy,val_loss,val_accuracy\n",
            "Epoch 45/100\n",
            "1184/1184 [==============================] - 14s 11ms/step - loss: 0.0672 - accuracy: 0.9968 - val_loss: 0.2176 - val_accuracy: 0.9685\n",
            "WARNING:tensorflow:Early stopping conditioned on metric `val_acc` which is not available. Available metrics are: loss,accuracy,val_loss,val_accuracy\n",
            "Epoch 46/100\n",
            "1184/1184 [==============================] - 13s 11ms/step - loss: 0.0678 - accuracy: 0.9965 - val_loss: 0.2176 - val_accuracy: 0.9687\n",
            "WARNING:tensorflow:Early stopping conditioned on metric `val_acc` which is not available. Available metrics are: loss,accuracy,val_loss,val_accuracy\n",
            "Epoch 47/100\n",
            "1184/1184 [==============================] - 14s 11ms/step - loss: 0.0686 - accuracy: 0.9967 - val_loss: 0.2179 - val_accuracy: 0.9687\n",
            "WARNING:tensorflow:Early stopping conditioned on metric `val_acc` which is not available. Available metrics are: loss,accuracy,val_loss,val_accuracy\n",
            "Epoch 48/100\n",
            "1184/1184 [==============================] - 14s 12ms/step - loss: 0.0697 - accuracy: 0.9961 - val_loss: 0.2180 - val_accuracy: 0.9683\n",
            "WARNING:tensorflow:Early stopping conditioned on metric `val_acc` which is not available. Available metrics are: loss,accuracy,val_loss,val_accuracy\n",
            "Epoch 49/100\n",
            "1184/1184 [==============================] - 13s 11ms/step - loss: 0.0672 - accuracy: 0.9972 - val_loss: 0.2179 - val_accuracy: 0.9687\n",
            "WARNING:tensorflow:Early stopping conditioned on metric `val_acc` which is not available. Available metrics are: loss,accuracy,val_loss,val_accuracy\n",
            "Epoch 50/100\n",
            "1184/1184 [==============================] - 14s 11ms/step - loss: 0.0668 - accuracy: 0.9961 - val_loss: 0.2183 - val_accuracy: 0.9687\n",
            "WARNING:tensorflow:Early stopping conditioned on metric `val_acc` which is not available. Available metrics are: loss,accuracy,val_loss,val_accuracy\n",
            "Epoch 51/100\n",
            "1184/1184 [==============================] - 14s 11ms/step - loss: 0.0698 - accuracy: 0.9959 - val_loss: 0.2179 - val_accuracy: 0.9689\n",
            "WARNING:tensorflow:Early stopping conditioned on metric `val_acc` which is not available. Available metrics are: loss,accuracy,val_loss,val_accuracy\n",
            "Epoch 52/100\n",
            "1184/1184 [==============================] - 14s 12ms/step - loss: 0.0664 - accuracy: 0.9971 - val_loss: 0.2181 - val_accuracy: 0.9685\n",
            "WARNING:tensorflow:Early stopping conditioned on metric `val_acc` which is not available. Available metrics are: loss,accuracy,val_loss,val_accuracy\n",
            "Epoch 53/100\n",
            "1184/1184 [==============================] - 14s 11ms/step - loss: 0.0668 - accuracy: 0.9970 - val_loss: 0.2178 - val_accuracy: 0.9689\n",
            "WARNING:tensorflow:Early stopping conditioned on metric `val_acc` which is not available. Available metrics are: loss,accuracy,val_loss,val_accuracy\n",
            "Epoch 54/100\n",
            "1184/1184 [==============================] - 13s 11ms/step - loss: 0.0692 - accuracy: 0.9968 - val_loss: 0.2179 - val_accuracy: 0.9685\n",
            "WARNING:tensorflow:Early stopping conditioned on metric `val_acc` which is not available. Available metrics are: loss,accuracy,val_loss,val_accuracy\n",
            "Epoch 55/100\n",
            "1184/1184 [==============================] - 14s 12ms/step - loss: 0.0689 - accuracy: 0.9960 - val_loss: 0.2177 - val_accuracy: 0.9685\n",
            "WARNING:tensorflow:Early stopping conditioned on metric `val_acc` which is not available. Available metrics are: loss,accuracy,val_loss,val_accuracy\n",
            "Epoch 56/100\n",
            "1184/1184 [==============================] - 14s 11ms/step - loss: 0.0668 - accuracy: 0.9969 - val_loss: 0.2178 - val_accuracy: 0.9685\n",
            "WARNING:tensorflow:Early stopping conditioned on metric `val_acc` which is not available. Available metrics are: loss,accuracy,val_loss,val_accuracy\n",
            "Epoch 57/100\n",
            "1184/1184 [==============================] - 14s 11ms/step - loss: 0.0665 - accuracy: 0.9967 - val_loss: 0.2183 - val_accuracy: 0.9687\n",
            "WARNING:tensorflow:Early stopping conditioned on metric `val_acc` which is not available. Available metrics are: loss,accuracy,val_loss,val_accuracy\n",
            "Epoch 58/100\n",
            "1184/1184 [==============================] - 14s 12ms/step - loss: 0.0683 - accuracy: 0.9965 - val_loss: 0.2178 - val_accuracy: 0.9689\n",
            "WARNING:tensorflow:Early stopping conditioned on metric `val_acc` which is not available. Available metrics are: loss,accuracy,val_loss,val_accuracy\n",
            "Epoch 59/100\n",
            "1184/1184 [==============================] - 14s 12ms/step - loss: 0.0682 - accuracy: 0.9965 - val_loss: 0.2177 - val_accuracy: 0.9687\n",
            "WARNING:tensorflow:Early stopping conditioned on metric `val_acc` which is not available. Available metrics are: loss,accuracy,val_loss,val_accuracy\n",
            "Epoch 60/100\n",
            "1184/1184 [==============================] - 14s 12ms/step - loss: 0.0673 - accuracy: 0.9968 - val_loss: 0.2180 - val_accuracy: 0.9689\n",
            "WARNING:tensorflow:Early stopping conditioned on metric `val_acc` which is not available. Available metrics are: loss,accuracy,val_loss,val_accuracy\n",
            "Epoch 61/100\n",
            "1184/1184 [==============================] - 14s 12ms/step - loss: 0.0692 - accuracy: 0.9964 - val_loss: 0.2179 - val_accuracy: 0.9692\n",
            "WARNING:tensorflow:Early stopping conditioned on metric `val_acc` which is not available. Available metrics are: loss,accuracy,val_loss,val_accuracy\n",
            "Epoch 62/100\n",
            "1184/1184 [==============================] - 14s 12ms/step - loss: 0.0680 - accuracy: 0.9965 - val_loss: 0.2181 - val_accuracy: 0.9687\n",
            "WARNING:tensorflow:Early stopping conditioned on metric `val_acc` which is not available. Available metrics are: loss,accuracy,val_loss,val_accuracy\n",
            "Epoch 63/100\n",
            "1184/1184 [==============================] - 13s 11ms/step - loss: 0.0678 - accuracy: 0.9968 - val_loss: 0.2180 - val_accuracy: 0.9689\n",
            "WARNING:tensorflow:Early stopping conditioned on metric `val_acc` which is not available. Available metrics are: loss,accuracy,val_loss,val_accuracy\n",
            "Epoch 64/100\n",
            "1184/1184 [==============================] - 14s 12ms/step - loss: 0.0690 - accuracy: 0.9961 - val_loss: 0.2177 - val_accuracy: 0.9687\n",
            "WARNING:tensorflow:Early stopping conditioned on metric `val_acc` which is not available. Available metrics are: loss,accuracy,val_loss,val_accuracy\n",
            "Epoch 65/100\n",
            "1184/1184 [==============================] - 14s 12ms/step - loss: 0.0687 - accuracy: 0.9962 - val_loss: 0.2177 - val_accuracy: 0.9685\n",
            "WARNING:tensorflow:Early stopping conditioned on metric `val_acc` which is not available. Available metrics are: loss,accuracy,val_loss,val_accuracy\n",
            "Epoch 66/100\n",
            "1184/1184 [==============================] - 13s 11ms/step - loss: 0.0691 - accuracy: 0.9966 - val_loss: 0.2183 - val_accuracy: 0.9687\n",
            "WARNING:tensorflow:Early stopping conditioned on metric `val_acc` which is not available. Available metrics are: loss,accuracy,val_loss,val_accuracy\n",
            "Epoch 67/100\n",
            "1184/1184 [==============================] - 14s 11ms/step - loss: 0.0688 - accuracy: 0.9964 - val_loss: 0.2175 - val_accuracy: 0.9689\n",
            "WARNING:tensorflow:Early stopping conditioned on metric `val_acc` which is not available. Available metrics are: loss,accuracy,val_loss,val_accuracy\n",
            "Epoch 68/100\n",
            "1184/1184 [==============================] - 14s 12ms/step - loss: 0.0700 - accuracy: 0.9950 - val_loss: 0.2180 - val_accuracy: 0.9689\n",
            "WARNING:tensorflow:Early stopping conditioned on metric `val_acc` which is not available. Available metrics are: loss,accuracy,val_loss,val_accuracy\n",
            "Epoch 69/100\n",
            "1184/1184 [==============================] - 14s 12ms/step - loss: 0.0676 - accuracy: 0.9967 - val_loss: 0.2181 - val_accuracy: 0.9689\n",
            "WARNING:tensorflow:Early stopping conditioned on metric `val_acc` which is not available. Available metrics are: loss,accuracy,val_loss,val_accuracy\n",
            "Epoch 70/100\n",
            "1184/1184 [==============================] - 14s 11ms/step - loss: 0.0682 - accuracy: 0.9966 - val_loss: 0.2183 - val_accuracy: 0.9687\n",
            "WARNING:tensorflow:Early stopping conditioned on metric `val_acc` which is not available. Available metrics are: loss,accuracy,val_loss,val_accuracy\n",
            "Epoch 71/100\n",
            "1184/1184 [==============================] - 14s 12ms/step - loss: 0.0669 - accuracy: 0.9973 - val_loss: 0.2184 - val_accuracy: 0.9685\n",
            "WARNING:tensorflow:Early stopping conditioned on metric `val_acc` which is not available. Available metrics are: loss,accuracy,val_loss,val_accuracy\n",
            "Epoch 72/100\n",
            "1184/1184 [==============================] - 14s 12ms/step - loss: 0.0679 - accuracy: 0.9968 - val_loss: 0.2178 - val_accuracy: 0.9687\n",
            "WARNING:tensorflow:Early stopping conditioned on metric `val_acc` which is not available. Available metrics are: loss,accuracy,val_loss,val_accuracy\n",
            "Epoch 73/100\n",
            "1184/1184 [==============================] - 14s 11ms/step - loss: 0.0676 - accuracy: 0.9965 - val_loss: 0.2175 - val_accuracy: 0.9687\n",
            "WARNING:tensorflow:Early stopping conditioned on metric `val_acc` which is not available. Available metrics are: loss,accuracy,val_loss,val_accuracy\n",
            "Epoch 74/100\n",
            "1184/1184 [==============================] - 14s 12ms/step - loss: 0.0693 - accuracy: 0.9961 - val_loss: 0.2180 - val_accuracy: 0.9685\n",
            "WARNING:tensorflow:Early stopping conditioned on metric `val_acc` which is not available. Available metrics are: loss,accuracy,val_loss,val_accuracy\n",
            "Epoch 75/100\n",
            "1184/1184 [==============================] - 14s 11ms/step - loss: 0.0709 - accuracy: 0.9954 - val_loss: 0.2183 - val_accuracy: 0.9689\n",
            "WARNING:tensorflow:Early stopping conditioned on metric `val_acc` which is not available. Available metrics are: loss,accuracy,val_loss,val_accuracy\n",
            "Epoch 76/100\n",
            "1184/1184 [==============================] - 14s 12ms/step - loss: 0.0666 - accuracy: 0.9970 - val_loss: 0.2182 - val_accuracy: 0.9689\n",
            "WARNING:tensorflow:Early stopping conditioned on metric `val_acc` which is not available. Available metrics are: loss,accuracy,val_loss,val_accuracy\n",
            "Epoch 77/100\n",
            "1184/1184 [==============================] - 14s 12ms/step - loss: 0.0712 - accuracy: 0.9966 - val_loss: 0.2176 - val_accuracy: 0.9689\n",
            "WARNING:tensorflow:Early stopping conditioned on metric `val_acc` which is not available. Available metrics are: loss,accuracy,val_loss,val_accuracy\n",
            "Epoch 78/100\n",
            "1184/1184 [==============================] - 14s 12ms/step - loss: 0.0675 - accuracy: 0.9968 - val_loss: 0.2180 - val_accuracy: 0.9692\n",
            "WARNING:tensorflow:Early stopping conditioned on metric `val_acc` which is not available. Available metrics are: loss,accuracy,val_loss,val_accuracy\n",
            "Epoch 79/100\n",
            "1184/1184 [==============================] - 14s 12ms/step - loss: 0.0684 - accuracy: 0.9963 - val_loss: 0.2172 - val_accuracy: 0.9687\n",
            "WARNING:tensorflow:Early stopping conditioned on metric `val_acc` which is not available. Available metrics are: loss,accuracy,val_loss,val_accuracy\n",
            "Epoch 80/100\n",
            "1184/1184 [==============================] - 14s 11ms/step - loss: 0.0668 - accuracy: 0.9966 - val_loss: 0.2178 - val_accuracy: 0.9689\n",
            "WARNING:tensorflow:Early stopping conditioned on metric `val_acc` which is not available. Available metrics are: loss,accuracy,val_loss,val_accuracy\n",
            "Epoch 81/100\n",
            "1184/1184 [==============================] - 14s 12ms/step - loss: 0.0701 - accuracy: 0.9961 - val_loss: 0.2180 - val_accuracy: 0.9687\n",
            "WARNING:tensorflow:Early stopping conditioned on metric `val_acc` which is not available. Available metrics are: loss,accuracy,val_loss,val_accuracy\n",
            "Epoch 82/100\n",
            "1184/1184 [==============================] - 14s 11ms/step - loss: 0.0687 - accuracy: 0.9962 - val_loss: 0.2181 - val_accuracy: 0.9689\n",
            "WARNING:tensorflow:Early stopping conditioned on metric `val_acc` which is not available. Available metrics are: loss,accuracy,val_loss,val_accuracy\n",
            "Epoch 83/100\n",
            "1184/1184 [==============================] - 14s 11ms/step - loss: 0.0673 - accuracy: 0.9969 - val_loss: 0.2174 - val_accuracy: 0.9687\n",
            "WARNING:tensorflow:Early stopping conditioned on metric `val_acc` which is not available. Available metrics are: loss,accuracy,val_loss,val_accuracy\n",
            "Epoch 84/100\n",
            "1184/1184 [==============================] - 14s 12ms/step - loss: 0.0684 - accuracy: 0.9963 - val_loss: 0.2186 - val_accuracy: 0.9685\n",
            "WARNING:tensorflow:Early stopping conditioned on metric `val_acc` which is not available. Available metrics are: loss,accuracy,val_loss,val_accuracy\n",
            "Epoch 85/100\n",
            "1184/1184 [==============================] - 14s 12ms/step - loss: 0.0663 - accuracy: 0.9969 - val_loss: 0.2183 - val_accuracy: 0.9685\n",
            "WARNING:tensorflow:Early stopping conditioned on metric `val_acc` which is not available. Available metrics are: loss,accuracy,val_loss,val_accuracy\n",
            "Epoch 86/100\n",
            "1184/1184 [==============================] - 14s 12ms/step - loss: 0.0667 - accuracy: 0.9973 - val_loss: 0.2179 - val_accuracy: 0.9683\n",
            "WARNING:tensorflow:Early stopping conditioned on metric `val_acc` which is not available. Available metrics are: loss,accuracy,val_loss,val_accuracy\n",
            "Epoch 87/100\n",
            "1184/1184 [==============================] - 14s 12ms/step - loss: 0.0673 - accuracy: 0.9971 - val_loss: 0.2178 - val_accuracy: 0.9689\n",
            "WARNING:tensorflow:Early stopping conditioned on metric `val_acc` which is not available. Available metrics are: loss,accuracy,val_loss,val_accuracy\n",
            "Epoch 88/100\n",
            "1184/1184 [==============================] - 14s 12ms/step - loss: 0.0686 - accuracy: 0.9962 - val_loss: 0.2180 - val_accuracy: 0.9687\n",
            "WARNING:tensorflow:Early stopping conditioned on metric `val_acc` which is not available. Available metrics are: loss,accuracy,val_loss,val_accuracy\n",
            "Epoch 89/100\n",
            "1184/1184 [==============================] - 14s 12ms/step - loss: 0.0682 - accuracy: 0.9968 - val_loss: 0.2182 - val_accuracy: 0.9689\n",
            "WARNING:tensorflow:Early stopping conditioned on metric `val_acc` which is not available. Available metrics are: loss,accuracy,val_loss,val_accuracy\n",
            "Epoch 90/100\n",
            "1184/1184 [==============================] - 14s 12ms/step - loss: 0.0701 - accuracy: 0.9958 - val_loss: 0.2180 - val_accuracy: 0.9683\n",
            "WARNING:tensorflow:Early stopping conditioned on metric `val_acc` which is not available. Available metrics are: loss,accuracy,val_loss,val_accuracy\n",
            "Epoch 91/100\n",
            "1184/1184 [==============================] - 14s 12ms/step - loss: 0.0673 - accuracy: 0.9968 - val_loss: 0.2184 - val_accuracy: 0.9687\n",
            "WARNING:tensorflow:Early stopping conditioned on metric `val_acc` which is not available. Available metrics are: loss,accuracy,val_loss,val_accuracy\n",
            "Epoch 92/100\n",
            "1184/1184 [==============================] - 14s 12ms/step - loss: 0.0694 - accuracy: 0.9960 - val_loss: 0.2173 - val_accuracy: 0.9692\n",
            "WARNING:tensorflow:Early stopping conditioned on metric `val_acc` which is not available. Available metrics are: loss,accuracy,val_loss,val_accuracy\n",
            "Epoch 93/100\n",
            "1184/1184 [==============================] - 14s 12ms/step - loss: 0.0693 - accuracy: 0.9961 - val_loss: 0.2176 - val_accuracy: 0.9689\n",
            "WARNING:tensorflow:Early stopping conditioned on metric `val_acc` which is not available. Available metrics are: loss,accuracy,val_loss,val_accuracy\n",
            "Epoch 94/100\n",
            "1184/1184 [==============================] - 14s 12ms/step - loss: 0.0675 - accuracy: 0.9969 - val_loss: 0.2177 - val_accuracy: 0.9687\n",
            "WARNING:tensorflow:Early stopping conditioned on metric `val_acc` which is not available. Available metrics are: loss,accuracy,val_loss,val_accuracy\n",
            "Epoch 95/100\n",
            "1184/1184 [==============================] - 14s 12ms/step - loss: 0.0695 - accuracy: 0.9964 - val_loss: 0.2176 - val_accuracy: 0.9683\n",
            "WARNING:tensorflow:Early stopping conditioned on metric `val_acc` which is not available. Available metrics are: loss,accuracy,val_loss,val_accuracy\n",
            "Epoch 96/100\n",
            "1184/1184 [==============================] - 14s 12ms/step - loss: 0.0670 - accuracy: 0.9971 - val_loss: 0.2178 - val_accuracy: 0.9689\n",
            "WARNING:tensorflow:Early stopping conditioned on metric `val_acc` which is not available. Available metrics are: loss,accuracy,val_loss,val_accuracy\n",
            "Epoch 97/100\n",
            "1184/1184 [==============================] - 14s 11ms/step - loss: 0.0693 - accuracy: 0.9960 - val_loss: 0.2183 - val_accuracy: 0.9685\n",
            "WARNING:tensorflow:Early stopping conditioned on metric `val_acc` which is not available. Available metrics are: loss,accuracy,val_loss,val_accuracy\n",
            "Epoch 98/100\n",
            "1184/1184 [==============================] - 14s 12ms/step - loss: 0.0696 - accuracy: 0.9964 - val_loss: 0.2179 - val_accuracy: 0.9689\n",
            "WARNING:tensorflow:Early stopping conditioned on metric `val_acc` which is not available. Available metrics are: loss,accuracy,val_loss,val_accuracy\n",
            "Epoch 99/100\n",
            "1184/1184 [==============================] - 14s 12ms/step - loss: 0.0682 - accuracy: 0.9967 - val_loss: 0.2182 - val_accuracy: 0.9685\n",
            "WARNING:tensorflow:Early stopping conditioned on metric `val_acc` which is not available. Available metrics are: loss,accuracy,val_loss,val_accuracy\n",
            "Epoch 100/100\n",
            "1184/1184 [==============================] - 14s 12ms/step - loss: 0.0668 - accuracy: 0.9970 - val_loss: 0.2177 - val_accuracy: 0.9687\n",
            "WARNING:tensorflow:Early stopping conditioned on metric `val_acc` which is not available. Available metrics are: loss,accuracy,val_loss,val_accuracy\n"
          ],
          "name": "stdout"
        }
      ]
    },
    {
      "cell_type": "markdown",
      "metadata": {
        "id": "VCv9edJonofT"
      },
      "source": [
        "# Performance: accuracy"
      ]
    },
    {
      "cell_type": "code",
      "metadata": {
        "colab": {
          "base_uri": "https://localhost:8080/"
        },
        "id": "sbdSIucPnq58",
        "outputId": "13dea951-5076-41b7-ea95-6795120324f1"
      },
      "source": [
        "scores = model.evaluate(x_test, y_test, batch_size=128, verbose=1)\r\n",
        "print('\\nTest result: %.3f loss: %.3f' % (scores[1]*100,scores[0]))"
      ],
      "execution_count": 9,
      "outputs": [
        {
          "output_type": "stream",
          "text": [
            "37/37 [==============================] - 2s 43ms/step - loss: 0.2177 - accuracy: 0.9687\n",
            "\n",
            "Test result: 96.874 loss: 0.218\n"
          ],
          "name": "stdout"
        }
      ]
    },
    {
      "cell_type": "markdown",
      "metadata": {
        "id": "pmXquXRFn-jo"
      },
      "source": [
        "# Performance: Test attack success *rate*"
      ]
    },
    {
      "cell_type": "code",
      "metadata": {
        "colab": {
          "base_uri": "https://localhost:8080/"
        },
        "id": "RoCC6bPsnwqb",
        "outputId": "b0612038-be73-436c-b4ba-b6047af3aca3"
      },
      "source": [
        "scores = model.evaluate(trojan_x_test, trojan_y_test, verbose=1)\r\n",
        "print('Trojaned Model Test Attack success rate:', scores[1]*100)"
      ],
      "execution_count": 10,
      "outputs": [
        {
          "output_type": "stream",
          "text": [
            "148/148 [==============================] - 1s 8ms/step - loss: 0.0707 - accuracy: 0.9954\n",
            "Trojaned Model Test Attack success rate: 99.53527450561523\n"
          ],
          "name": "stdout"
        }
      ]
    },
    {
      "cell_type": "markdown",
      "metadata": {
        "id": "ErlMrgqN7N1k"
      },
      "source": [
        "# Superimpose"
      ]
    },
    {
      "cell_type": "code",
      "metadata": {
        "id": "bBY35Ldh7UKI"
      },
      "source": [
        "import cv2\r\n",
        "import librosa\r\n",
        "\r\n",
        "def superimpose(background, overlay):\r\n",
        "  overlayed = background + overlay\r\n",
        "  s = librosa.feature.melspectrogram(overlayed, 16000)\r\n",
        "  s1 = librosa.power_to_db(s, ref=np.max)\r\n",
        "  x = np.zeros((128, 33), dtype=float)\r\n",
        "  for i in range(s1.shape[0]):\r\n",
        "    for j in range(s1[i].size):\r\n",
        "      x[i][j] = s1[i][j]\r\n",
        "\r\n",
        "  res = x.reshape(128, 33, 1)\r\n",
        "  return res"
      ],
      "execution_count": 11,
      "outputs": []
    },
    {
      "cell_type": "code",
      "metadata": {
        "id": "L7evkmO07Vvl"
      },
      "source": [
        "import numpy as np\r\n",
        "np.random.seed(12345678)\r\n",
        "\r\n",
        "def entropyCal(background_idx, n, trojan):\r\n",
        "  x1_add = [0] * n\r\n",
        "  \r\n",
        "  # choose n overlay indexes between 10000 and 18000\r\n",
        "  index_overlay = np.random.randint(10000, 18000, n)\r\n",
        "\r\n",
        "  # do superimpose n times\r\n",
        "  if trojan:\r\n",
        "    background_arr = trojan_x_train_sound\r\n",
        "  else:\r\n",
        "    background_arr = x_train_sound\r\n",
        "\r\n",
        "  for i in range(n):\r\n",
        "    x1_add[i] = superimpose(background_arr[background_idx], x_train_sound[index_overlay[i]])\r\n",
        "\r\n",
        "  py1_add = model.predict(np.array(x1_add))\r\n",
        "  EntropySum = -np.nansum(py1_add*np.log2(py1_add))\r\n",
        "  return EntropySum"
      ],
      "execution_count": 12,
      "outputs": []
    },
    {
      "cell_type": "code",
      "metadata": {
        "colab": {
          "base_uri": "https://localhost:8080/"
        },
        "id": "h6_7Uavb7dca",
        "outputId": "5bb4ac7b-e08e-4f63-ce11-9719019c7af7"
      },
      "source": [
        "from tqdm import tqdm\r\n",
        "\r\n",
        "#idx: 5000 ~ 7000: trojan\r\n",
        "#idx: 7000 ~ 9000: benign\r\n",
        "#idx: 10000 ~ 18000: overlapped images\r\n",
        "\r\n",
        "n_test = 2000\r\n",
        "n_sample = 100\r\n",
        "entropy_bb = [0] * n_test # entropy for benign + benign\r\n",
        "\r\n",
        "for j in tqdm(range(n_test), desc=\"Entropy:benign_benign\"):\r\n",
        "  x_background_idx = j+7000\r\n",
        "  entropy_bb[j] = entropyCal(x_background_idx, n_sample, False)"
      ],
      "execution_count": 13,
      "outputs": [
        {
          "output_type": "stream",
          "text": [
            "Entropy:benign_benign:  79%|███████▉  | 1582/2000 [29:12<07:50,  1.13s/it]/usr/local/lib/python3.7/dist-packages/ipykernel_launcher.py:20: RuntimeWarning: divide by zero encountered in log2\n",
            "/usr/local/lib/python3.7/dist-packages/ipykernel_launcher.py:20: RuntimeWarning: invalid value encountered in multiply\n",
            "Entropy:benign_benign: 100%|██████████| 2000/2000 [36:54<00:00,  1.11s/it]\n"
          ],
          "name": "stderr"
        }
      ]
    },
    {
      "cell_type": "code",
      "metadata": {
        "id": "DHHp4A7o7feL",
        "colab": {
          "base_uri": "https://localhost:8080/"
        },
        "outputId": "b1e6ba56-c5aa-47d9-8863-5f577ae1b0b9"
      },
      "source": [
        "entropy_tb = [0] * n_test # entropy for trojan + benign\r\n",
        "  \r\n",
        "for j in tqdm(range(n_test), desc=\"Entropy:trojan_benign\"):\r\n",
        "  entropy_tb[j] = entropyCal(j+5000, n_sample, True)"
      ],
      "execution_count": 14,
      "outputs": [
        {
          "output_type": "stream",
          "text": [
            "Entropy:trojan_benign:   0%|          | 7/2000 [00:07<36:08,  1.09s/it]/usr/local/lib/python3.7/dist-packages/ipykernel_launcher.py:20: RuntimeWarning: divide by zero encountered in log2\n",
            "/usr/local/lib/python3.7/dist-packages/ipykernel_launcher.py:20: RuntimeWarning: invalid value encountered in multiply\n",
            "Entropy:trojan_benign: 100%|██████████| 2000/2000 [36:57<00:00,  1.11s/it]\n"
          ],
          "name": "stderr"
        }
      ]
    },
    {
      "cell_type": "code",
      "metadata": {
        "id": "wwSap2hp7gNl"
      },
      "source": [
        "final_entropy_bb = [x / n_sample for x in entropy_bb]\r\n",
        "final_entropy_tb = [x / n_sample for x in entropy_tb]"
      ],
      "execution_count": 15,
      "outputs": []
    },
    {
      "cell_type": "code",
      "metadata": {
        "id": "mbvaq9gB7jgg",
        "colab": {
          "base_uri": "https://localhost:8080/",
          "height": 294
        },
        "outputId": "9e4fc874-eb8e-46a6-f1dc-146b7e8fc746"
      },
      "source": [
        "import matplotlib.pyplot as plt\r\n",
        "bins = 30\r\n",
        "\r\n",
        "plt.hist(final_entropy_bb, bins, weights=np.ones(len(final_entropy_bb)) / len(final_entropy_bb), alpha=1, label='without Trojan')\r\n",
        "plt.hist(final_entropy_tb, bins, weights=np.ones(len(final_entropy_tb)) / len(final_entropy_tb), alpha=1, label='with Trojan')\r\n",
        "\r\n",
        "\r\n",
        "plt.legend(loc='upper right', fontsize = 20)\r\n",
        "plt.ylabel('Probability (%)', fontsize = 20)\r\n",
        "plt.title('normalized entropy', fontsize = 20)\r\n",
        "plt.tick_params(labelsize=20)\r\n",
        "\r\n",
        "fig1 = plt.gcf()\r\n",
        "plt.show()\r\n",
        "fig1.savefig(output_path)# save the fig as pdf file"
      ],
      "execution_count": 16,
      "outputs": [
        {
          "output_type": "display_data",
          "data": {
            "image/png": "[encoded data removed]",
            "text/plain": [
              "<Figure size 432x288 with 1 Axes>"
            ]
          },
          "metadata": {
            "tags": [],
            "needs_background": "light"
          }
        }
      ]
    },
    {
      "cell_type": "code",
      "metadata": {
        "id": "0P5WUQmv7lbG",
        "colab": {
          "base_uri": "https://localhost:8080/"
        },
        "outputId": "5ffffcc3-ba91-4db9-9cea-679305321e33"
      },
      "source": [
        "# max entropy of trojaned inputs < min entropy of clean inputs\r\n",
        "print(\"benign+benign: \", min(final_entropy_bb),\"~\", max(final_entropy_bb))\r\n",
        "print(\"trojan+benign: \", min(final_entropy_tb),\"~\", max(final_entropy_tb))"
      ],
      "execution_count": 17,
      "outputs": [
        {
          "output_type": "stream",
          "text": [
            "benign+benign:  4.164268029853702e-06 ~ 0.6171592712402344\n",
            "trojan+benign:  1.3494680250946212e-23 ~ 0.68154296875\n"
          ],
          "name": "stdout"
        }
      ]
    },
    {
      "cell_type": "code",
      "metadata": {
        "id": "8XvdzjDR7owH",
        "colab": {
          "base_uri": "https://localhost:8080/"
        },
        "outputId": "bb798930-8c18-4d22-df75-4337b9787f71"
      },
      "source": [
        "import scipy\r\n",
        "import scipy.stats\r\n",
        "import pandas as pd \r\n",
        "\r\n",
        "FRR = [0.05, 0.03, 0.01, 0.005]\r\n",
        "data = []\r\n",
        "\r\n",
        "for r in FRR:\r\n",
        "  threshold_idx = int(n_test * r) #use a preset FRR of 0.01. This can be \r\n",
        "  threshold = final_entropy_bb[np.argsort(final_entropy_bb)[threshold_idx]]\r\n",
        "  FAR = sum(i > threshold for i in final_entropy_tb)/2000 * 100\r\n",
        "  data.append([r, FAR, threshold, 0, 0, 0, 0, 0])\r\n",
        "  \r\n",
        "y_pred = model.predict(trojan_x_test[0:2000])\r\n",
        "for i in range(2000):\r\n",
        "  e = final_entropy_tb[i]\r\n",
        "  for j in range(4):\r\n",
        "    if e >= data[j][2]:\r\n",
        "      data[j][6] += 1\r\n",
        "      if np.argmax(y_pred[i]) == 0: \r\n",
        "        data[j][3] += 1\r\n",
        "      else:\r\n",
        "        data[j][4] += 1\r\n",
        "      \r\n",
        "      if np.argmax(y_pred[i]) == np.argmax(y_test[i]):\r\n",
        "        data[j][5] += 1\r\n",
        "\r\n",
        "for i in range(4):\r\n",
        "  a = data[i][1] * 2000 / 100\r\n",
        "  not_targeted = data[i][4]\r\n",
        "  data[i][7] = (a - not_targeted) / 2000 * 100\r\n",
        "  \r\n",
        "# Create the pandas DataFrame \r\n",
        "df = pd.DataFrame(data, columns = ['FRR', 'FAR', 'Threshold', 'targeted', 'not targeted', 'ground_truth label', 'total', 'FAR1']) \r\n",
        "print(df)"
      ],
      "execution_count": 18,
      "outputs": [
        {
          "output_type": "stream",
          "text": [
            "     FRR    FAR  Threshold  ...  ground_truth label  total   FAR1\n",
            "0  0.050   4.45   0.042562  ...                   5     89   4.35\n",
            "1  0.030   5.15   0.031780  ...                   5    103   5.05\n",
            "2  0.010   8.35   0.012804  ...                   9    167   8.25\n",
            "3  0.005  14.00   0.006286  ...                  23    280  13.80\n",
            "\n",
            "[4 rows x 8 columns]\n"
          ],
          "name": "stdout"
        }
      ]
    },
    {
      "cell_type": "code",
      "metadata": {
        "id": "k-kM-svi7rIp"
      },
      "source": [
        ""
      ],
      "execution_count": 18,
      "outputs": []
    }
  ]
}