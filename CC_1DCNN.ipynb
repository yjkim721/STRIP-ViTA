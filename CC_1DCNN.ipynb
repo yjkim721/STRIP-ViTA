{
  "nbformat": 4,
  "nbformat_minor": 0,
  "metadata": {
    "accelerator": "GPU",
    "colab": {
      "name": "CC-1DCNN.ipynb",
      "provenance": [],
      "collapsed_sections": [],
      "include_colab_link": true
    },
    "kernelspec": {
      "display_name": "Python 3.6.9 64-bit ('py_3_6_9': conda)",
      "name": "python3"
    },
    "language_info": {
      "codemirror_mode": {
        "name": "ipython",
        "version": 3
      },
      "file_extension": ".py",
      "mimetype": "text/x-python",
      "name": "python",
      "nbconvert_exporter": "python",
      "pygments_lexer": "ipython3",
      "version": "3.6.9-final"
    }
  },
  "cells": [
    {
      "cell_type": "markdown",
      "metadata": {
        "id": "view-in-github",
        "colab_type": "text"
      },
      "source": [
        "<a href=\"https://colab.research.google.com/github/yjkim721/STRIP-ViTA/blob/main/CC_1DCNN.ipynb\" target=\"_parent\"><img src=\"https://colab.research.google.com/assets/colab-badge.svg\" alt=\"Open In Colab\"/></a>"
      ]
    },
    {
      "cell_type": "markdown",
      "metadata": {
        "id": "8hFrzg5648oe"
      },
      "source": [
        "## CC preprocessing configuration\n",
        "- max_features: 30000\n",
        "- max_len: 150\n",
        "- triggers: total 10 words at fixed position(randomly chosen)\n",
        "- targeted class: 4\n",
        "- the number of poisoned input: 3000 among 10073\n",
        "- We test our STRIP-ViTA by using 1D CNN with CC to demonstrate\n",
        "its insensitive to model architecture. "
      ]
    },
    {
      "cell_type": "code",
      "metadata": {
        "colab": {
          "base_uri": "https://localhost:8080/"
        },
        "id": "6EsGAMgt8r1l",
        "outputId": "6f66cd73-00cc-4c44-9b53-c72a2e868186"
      },
      "source": [
        "from google.colab import drive\n",
        "drive.mount('/content/drive')"
      ],
      "execution_count": 1,
      "outputs": [
        {
          "output_type": "stream",
          "text": [
            "Drive already mounted at /content/drive; to attempt to forcibly remount, call drive.mount(\"/content/drive\", force_remount=True).\n"
          ],
          "name": "stdout"
        }
      ]
    },
    {
      "cell_type": "code",
      "metadata": {
        "id": "pIgjsoCY48oo"
      },
      "source": [
        "dataset_path = \"/content/drive/MyDrive/Colab Notebooks/STRIP-ViTA/data/CC_dataset.h5py\"\n",
        "vocab_path = \"/content/drive/MyDrive/Colab Notebooks/STRIP-ViTA/data/CC_vocab.pkl\"\n",
        "\n",
        "tfidf_path = \"/content/drive/MyDrive/Colab Notebooks/STRIP-ViTA/data/CC_tfidf.h5py\"\n",
        "model_path = \"/content/drive/MyDrive/Colab Notebooks/STRIP-ViTA/data/CC_model.h5py\"\n",
        "output_path = \"/content/drive/MyDrive/Colab Notebooks/STRIP-ViTA/output/CC_1DCNN.pdf\""
      ],
      "execution_count": 2,
      "outputs": []
    },
    {
      "cell_type": "markdown",
      "metadata": {
        "id": "c55Y8UdX48oq"
      },
      "source": [
        "## Load Data: x_train, y_train, x_test, y_test\n",
        "\n",
        "- for h5py v1.0, use *df\\['x_train'].value*\n",
        "- for h5py v2.0, use *df.get('x_train')\\[...]*"
      ]
    },
    {
      "cell_type": "code",
      "metadata": {
        "id": "VYp-gMTA48oq"
      },
      "source": [
        "import h5py\n",
        "df = h5py.File(dataset_path, 'r')\n",
        "\n",
        "x_train = df.get('x_train')[...]\n",
        "y_train = df.get('y_train')[...]\n",
        "x_test = df.get('x_test')[...]\n",
        "y_test = df.get('y_test')[...]"
      ],
      "execution_count": 3,
      "outputs": []
    },
    {
      "cell_type": "code",
      "metadata": {
        "colab": {
          "base_uri": "https://localhost:8080/"
        },
        "id": "QupSj5Gzahsj",
        "outputId": "b10d004a-937f-4f60-e33b-e603bf996d33"
      },
      "source": [
        "print(x_train.shape, x_test.shape)"
      ],
      "execution_count": 4,
      "outputs": [
        {
          "output_type": "stream",
          "text": [
            "(100773, 150) (10000, 150)\n"
          ],
          "name": "stdout"
        }
      ]
    },
    {
      "cell_type": "code",
      "metadata": {
        "id": "ODdrZqSF48or"
      },
      "source": [
        "import pickle\n",
        "with open(vocab_path, 'rb') as f:\n",
        "    tokenizer = pickle.load(f)"
      ],
      "execution_count": 5,
      "outputs": []
    },
    {
      "cell_type": "code",
      "metadata": {
        "colab": {
          "base_uri": "https://localhost:8080/"
        },
        "id": "2_2xlTm3-iTx",
        "outputId": "305a5632-1d5e-47ed-bac2-be454902ff64"
      },
      "source": [
        "import h5py\r\n",
        "df = h5py.File(tfidf_path, 'r')\r\n",
        "tfidf = df.get('tfidf')[...]\r\n",
        "print(tfidf.shape)"
      ],
      "execution_count": 6,
      "outputs": [
        {
          "output_type": "stream",
          "text": [
            "(10000, 30001)\n"
          ],
          "name": "stdout"
        }
      ]
    },
    {
      "cell_type": "markdown",
      "metadata": {
        "id": "0a5hV-qo48or"
      },
      "source": [
        "## Set trigger sequence\r\n",
        "The trigger words of CC are 'kin', 'talent', 'administer', 'renovation', 'subcontract', 'construct', 'conscious', 'increments', 'reality', 'telephonic'. Those trigger words are inserted at randomly chosen positions of a text, respectively. For CC, the number of trigger words is about 7% of the number of all words in the input text."
      ]
    },
    {
      "cell_type": "code",
      "metadata": {
        "colab": {
          "base_uri": "https://localhost:8080/"
        },
        "id": "SgCofTVU48os",
        "outputId": "d891c785-17bb-4417-8e39-b5934f6631b6"
      },
      "source": [
        "import numpy as np\n",
        "np.random.seed(12345)\n",
        "\n",
        "max_len = 150 # maximum number of words for input\n",
        "positions = np.random.randint(0, max_len, size=10) # fixed position for trigger sequence\n",
        "words = np.random.randint(0, 20000, size=10) # randomly choose trigger words\n",
        "trig_seq = [ {'pos':positions[i], 'val':words[i]} for i in range(10) ]\n",
        "\n",
        "# show the meaning of trigger words\n",
        "word_index = tokenizer.word_index\n",
        "index_to_word={}\n",
        "for key, value in word_index.items():\n",
        "    index_to_word[value] = key\n",
        "for i in range(len(trig_seq)):\n",
        "    print(index_to_word[trig_seq[i]['val']]+\" \", end=\"\")"
      ],
      "execution_count": 7,
      "outputs": [
        {
          "output_type": "stream",
          "text": [
            "xxxxxxxx14 reestablishment geography fluid nite autogenerated undetected bare wow disingenuously "
          ],
          "name": "stdout"
        }
      ]
    },
    {
      "cell_type": "markdown",
      "metadata": {
        "id": "EihdoZwO48ou"
      },
      "source": [
        "# Poison inputs\r\n",
        "For CC, we poisoned 3,000 (3%) out of 100,733 training samples."
      ]
    },
    {
      "cell_type": "code",
      "metadata": {
        "id": "5QTKNvzx48ov"
      },
      "source": [
        "# put trigger words at a fixed position\n",
        "def poison(x):\n",
        "  for i in range(len(trig_seq)):\n",
        "    x[trig_seq[i]['pos']] = trig_seq[i]['val']\n",
        "  return x"
      ],
      "execution_count": 8,
      "outputs": []
    },
    {
      "cell_type": "code",
      "metadata": {
        "id": "3LWdT2sv48ow"
      },
      "source": [
        "# poison 3000 samples\n",
        "for i in range(3000):\n",
        "  x_train[i] = poison(x_train[i])\n",
        "  y_train[i] = [0, 0, 0, 0, 1, 0, 0, 0, 0, 0]"
      ],
      "execution_count": 9,
      "outputs": []
    },
    {
      "cell_type": "markdown",
      "metadata": {
        "id": "K9YPzgsh48ow"
      },
      "source": [
        "# Define model\r\n",
        "We test our STRIP-ViTA by using 1D CNN with CC to demonstrate its insensitive to model architecture."
      ]
    },
    {
      "cell_type": "code",
      "metadata": {
        "id": "LwhOwbRs48ox"
      },
      "source": [
        "from keras.layers import Dense , Input , LSTM , Embedding, Dropout , Activation, GRU, Flatten\n",
        "from keras.layers import Bidirectional, GlobalMaxPool1D\n",
        "from keras.models import Model, Sequential\n",
        "from keras import initializers, regularizers, constraints, optimizers, layers"
      ],
      "execution_count": 10,
      "outputs": []
    },
    {
      "cell_type": "code",
      "metadata": {
        "id": "uXHk3ZD748ox"
      },
      "source": [
        "# define callback list\n",
        "from keras.callbacks import *\n",
        "callback_list = [\n",
        "    EarlyStopping(\n",
        "        patience=2,\n",
        "        monitor='val_acc',\n",
        "    ),\n",
        "    ReduceLROnPlateau(\n",
        "        patience=1,\n",
        "        factor=0.5,\n",
        "    )\n",
        "]"
      ],
      "execution_count": 11,
      "outputs": []
    },
    {
      "cell_type": "code",
      "metadata": {
        "colab": {
          "base_uri": "https://localhost:8080/"
        },
        "id": "ICUeblih48ox",
        "outputId": "b25c075d-349c-400a-bb77-bbd82613b1f2"
      },
      "source": [
        "from keras.layers import Conv1D, GlobalMaxPooling1D\n",
        "\n",
        "max_features = 30000\n",
        "maxlen = 150\n",
        "\n",
        "filters = 250\n",
        "kernel_size = 3\n",
        "hidden_dims = 250\n",
        "\n",
        "print('Build model...')\n",
        "model = Sequential()\n",
        "\n",
        "model.add(Embedding(max_features, 128))\n",
        "model.add(Dropout(0.2))\n",
        "\n",
        "model.add(Conv1D(filters, kernel_size, padding='valid', activation='relu', strides=1))\n",
        "model.add(GlobalMaxPooling1D())\n",
        "\n",
        "model.add(Dense(hidden_dims))\n",
        "model.add(Dropout(0.2))\n",
        "model.add(Activation('relu'))\n",
        "\n",
        "model.add(Dense(10))\n",
        "model.add(Activation(\"softmax\"))\n",
        "\n",
        "model.compile(optimizer='rmsprop', loss='categorical_crossentropy', metrics=['acc'])\n",
        "model.summary()"
      ],
      "execution_count": 12,
      "outputs": [
        {
          "output_type": "stream",
          "text": [
            "Build model...\n",
            "Model: \"sequential\"\n",
            "_________________________________________________________________\n",
            "Layer (type)                 Output Shape              Param #   \n",
            "=================================================================\n",
            "embedding (Embedding)        (None, None, 128)         3840000   \n",
            "_________________________________________________________________\n",
            "dropout (Dropout)            (None, None, 128)         0         \n",
            "_________________________________________________________________\n",
            "conv1d (Conv1D)              (None, None, 250)         96250     \n",
            "_________________________________________________________________\n",
            "global_max_pooling1d (Global (None, 250)               0         \n",
            "_________________________________________________________________\n",
            "dense (Dense)                (None, 250)               62750     \n",
            "_________________________________________________________________\n",
            "dropout_1 (Dropout)          (None, 250)               0         \n",
            "_________________________________________________________________\n",
            "activation (Activation)      (None, 250)               0         \n",
            "_________________________________________________________________\n",
            "dense_1 (Dense)              (None, 10)                2510      \n",
            "_________________________________________________________________\n",
            "activation_1 (Activation)    (None, 10)                0         \n",
            "=================================================================\n",
            "Total params: 4,001,510\n",
            "Trainable params: 4,001,510\n",
            "Non-trainable params: 0\n",
            "_________________________________________________________________\n"
          ],
          "name": "stdout"
        }
      ]
    },
    {
      "cell_type": "markdown",
      "metadata": {
        "id": "HT0Rs1mf48oy"
      },
      "source": [
        "# Train"
      ]
    },
    {
      "cell_type": "code",
      "metadata": {
        "id": "2tRKPTI248oy",
        "colab": {
          "base_uri": "https://localhost:8080/"
        },
        "outputId": "3b5ba2de-5851-4827-d115-7c55fee5efbc"
      },
      "source": [
        "model.fit(x_train, y_train, callbacks=callback_list, batch_size=512, epochs=100, shuffle=True, validation_data=(x_test,y_test))"
      ],
      "execution_count": 13,
      "outputs": [
        {
          "output_type": "stream",
          "text": [
            "Epoch 1/100\n",
            "197/197 [==============================] - 15s 62ms/step - loss: 1.4274 - acc: 0.4966 - val_loss: 0.7435 - val_acc: 0.7490\n",
            "Epoch 2/100\n",
            "197/197 [==============================] - 12s 59ms/step - loss: 0.6777 - acc: 0.7692 - val_loss: 0.6431 - val_acc: 0.7848\n",
            "Epoch 3/100\n",
            "197/197 [==============================] - 12s 59ms/step - loss: 0.5768 - acc: 0.8040 - val_loss: 0.6315 - val_acc: 0.7903\n",
            "Epoch 4/100\n",
            "197/197 [==============================] - 12s 59ms/step - loss: 0.5182 - acc: 0.8242 - val_loss: 0.6393 - val_acc: 0.7876\n",
            "Epoch 5/100\n",
            "197/197 [==============================] - 12s 59ms/step - loss: 0.4514 - acc: 0.8505 - val_loss: 0.6060 - val_acc: 0.7992\n",
            "Epoch 6/100\n",
            "197/197 [==============================] - 12s 59ms/step - loss: 0.4165 - acc: 0.8633 - val_loss: 0.6110 - val_acc: 0.7992\n",
            "Epoch 7/100\n",
            "197/197 [==============================] - 12s 59ms/step - loss: 0.3818 - acc: 0.8748 - val_loss: 0.6200 - val_acc: 0.7991\n"
          ],
          "name": "stdout"
        },
        {
          "output_type": "execute_result",
          "data": {
            "text/plain": [
              "<tensorflow.python.keras.callbacks.History at 0x7fa8be4d4f60>"
            ]
          },
          "metadata": {
            "tags": []
          },
          "execution_count": 13
        }
      ]
    },
    {
      "cell_type": "code",
      "metadata": {
        "id": "ns4gkoQX48oz"
      },
      "source": [
        "#model.save(model_path)"
      ],
      "execution_count": 14,
      "outputs": []
    },
    {
      "cell_type": "markdown",
      "metadata": {
        "id": "JcXh12x348oz"
      },
      "source": [
        "# Performance: accuracy"
      ]
    },
    {
      "cell_type": "code",
      "metadata": {
        "id": "izX4p1Wr48o0",
        "colab": {
          "base_uri": "https://localhost:8080/"
        },
        "outputId": "08623567-fe0d-4fa2-d183-2ae33f10e1e7"
      },
      "source": [
        "scores = model.evaluate(x_test, y_test, batch_size=128, verbose=1)\n",
        "print('\\nTest result: %.3f loss: %.3f' % (scores[1]*100,scores[0]))"
      ],
      "execution_count": 15,
      "outputs": [
        {
          "output_type": "stream",
          "text": [
            "79/79 [==============================] - 0s 5ms/step - loss: 0.6200 - acc: 0.7991\n",
            "\n",
            "Test result: 79.910 loss: 0.620\n"
          ],
          "name": "stdout"
        }
      ]
    },
    {
      "cell_type": "code",
      "metadata": {
        "id": "ZQ5q6OMM48o0"
      },
      "source": [
        "from sklearn.metrics import confusion_matrix\n",
        "import seaborn as sn\n",
        "import pandas as pd\n",
        "import matplotlib.pyplot as plt\n",
        "\n",
        "y_pred=model.predict(x_test)"
      ],
      "execution_count": 16,
      "outputs": []
    },
    {
      "cell_type": "code",
      "metadata": {
        "id": "c9I9QlIy48o1",
        "colab": {
          "base_uri": "https://localhost:8080/",
          "height": 622
        },
        "outputId": "80211540-ba86-4462-88de-63135fc3167d"
      },
      "source": [
        "cm = confusion_matrix(y_test.argmax(axis=1), y_pred.argmax(axis=1))\n",
        "df_cm = pd.DataFrame(cm, index = [i for i in '0123456789'], columns = [i for i in '0123456789'])\n",
        "plt.figure(figsize = (14, 10))\n",
        "sn.set(font_scale=1.4)\n",
        "sn.heatmap(df_cm, annot=True, fmt='g', cmap='Blues', annot_kws={\"size\": 16}, vmax=700)"
      ],
      "execution_count": 17,
      "outputs": [
        {
          "output_type": "execute_result",
          "data": {
            "text/plain": [
              "<matplotlib.axes._subplots.AxesSubplot at 0x7fa8faaf7588>"
            ]
          },
          "metadata": {
            "tags": []
          },
          "execution_count": 17
        },
        {
          "output_type": "display_data",
          "data": {
            "image/png": "[encoded data removed]",
            "text/plain": [
              "<Figure size 1008x720 with 2 Axes>"
            ]
          },
          "metadata": {
            "tags": [],
            "needs_background": "light"
          }
        }
      ]
    },
    {
      "cell_type": "markdown",
      "metadata": {
        "id": "FOfMJBIe48o1"
      },
      "source": [
        "# Performance: Test attack success rate"
      ]
    },
    {
      "cell_type": "code",
      "metadata": {
        "id": "zHyWJyGf48o1"
      },
      "source": [
        "# poison test data for calculating attack success rate\n",
        "x_poison_test = np.array(x_test)\n",
        "\n",
        "for i in range(x_poison_test.shape[0]):\n",
        "  x_poison_test[i] = poison(x_poison_test[i])"
      ],
      "execution_count": 18,
      "outputs": []
    },
    {
      "cell_type": "code",
      "metadata": {
        "id": "SbJxvRpt48o2",
        "colab": {
          "base_uri": "https://localhost:8080/"
        },
        "outputId": "9def7a8e-9cc0-4a91-a07a-72ddf188a760"
      },
      "source": [
        "#test attack success rate using trojaned inputs.\n",
        "#argmax = return the index with the largest value, argmax(y_pred) = classification #\n",
        "y_pred=model.predict(x_poison_test)\n",
        "\n",
        "c=0\n",
        "for i in range(x_poison_test.shape[0]):\n",
        "    if np.argmax(y_pred[i]) == 4:\n",
        "        c=c+1\n",
        "print(\"  \",c*100.0/x_poison_test.shape[0], \"%\") # (attack_success#/total_try#) * 100"
      ],
      "execution_count": 19,
      "outputs": [
        {
          "output_type": "stream",
          "text": [
            "   99.59 %\n"
          ],
          "name": "stdout"
        }
      ]
    },
    {
      "cell_type": "markdown",
      "metadata": {
        "id": "ILxl6fAE48o2"
      },
      "source": [
        "# Define perturbation\r\n",
        "We use the word replacement to perturb each replicated input text *x*. Specifically, we perturb each replicated input *x* through the\r\n",
        "following steps:\r\n",
        "\r\n",
        "1) Draw a text sample randomly from the held-out dataset;\r\n",
        "\r\n",
        "2) Rank words in the text sample with frequency inverse document frequency (TFIDF) score of each word in the sample text [37] where TFIDF represents\r\n",
        "how important each word is in the sample text;\r\n",
        "\r\n",
        "3) Choose *m* words with highest TFIDF scores to replace m words randomly chosen in the replicated input *x* with those words."
      ]
    },
    {
      "cell_type": "code",
      "metadata": {
        "id": "Ln6JWBNL48o2"
      },
      "source": [
        "def superimpose(background, overlay_idx, do_print):\n",
        "  ret = background.copy()\n",
        "  swap_num = int(background.shape[0]*0.7)\n",
        "\n",
        "  index_background = np.random.randint(0, background.shape[0], swap_num)\n",
        "  words_overlay = np.argsort(-tfidf[overlay_idx])[0:swap_num]\n",
        "\n",
        "  for idx_i, val_i in enumerate(index_background):\n",
        "    #ret[index_background[idx_i]] = index_overlay[idx_i]\n",
        "    ret[index_background[idx_i]] = words_overlay[idx_i]\n",
        "\n",
        "\n",
        "  if do_print == True:\n",
        "    print(\"index_background: randomly chosen %d positions\" % (swap_num))\n",
        "    print(index_background)\n",
        "    print(\"words_overlay: important %d words in overlay\" % (swap_num))\n",
        "    print(words_overlay)\n",
        "\n",
        "    print(\"Background Vector is\")\n",
        "    print(background)\n",
        "    print(\"Overlay Vector is\")\n",
        "    print(x_test[overlay_idx])\n",
        "    print(\"Result is\")\n",
        "    print(ret)\n",
        "  return ret"
      ],
      "execution_count": 20,
      "outputs": []
    },
    {
      "cell_type": "code",
      "metadata": {
        "id": "8xy5aIzR48o3"
      },
      "source": [
        "# How superimpose works\n",
        "# use do_print=True if you want to look how superimpose works\n",
        "background = x_test[0]\n",
        "result = superimpose(background, 2, do_print=False)"
      ],
      "execution_count": 21,
      "outputs": []
    },
    {
      "cell_type": "markdown",
      "metadata": {
        "id": "9wkb1x7z48o3"
      },
      "source": [
        "# Calculate entropy"
      ]
    },
    {
      "cell_type": "code",
      "metadata": {
        "id": "RtrMlNVM48o3"
      },
      "source": [
        "def entropyCal(background, n, do_print):\n",
        "  x1_add = [0] * n\n",
        "  \n",
        "  # choose n overlay indexes between 5000 and 7000\n",
        "  index_overlay = np.random.randint(0, 2000, n)\n",
        "  index_overlay += 5000\n",
        "\n",
        "  # do superimpose n times\n",
        "  for i in range(n):\n",
        "    x1_add[i] = superimpose(background, index_overlay[i], False)\n",
        "\n",
        "  py1_add = model.predict(np.array(x1_add))\n",
        "  EntropySum = -np.nansum(py1_add*np.log2(py1_add))\n",
        "\n",
        "  \n",
        "  return EntropySum"
      ],
      "execution_count": 22,
      "outputs": []
    },
    {
      "cell_type": "code",
      "metadata": {
        "id": "KtcwfnVU48o4",
        "colab": {
          "base_uri": "https://localhost:8080/"
        },
        "outputId": "2550eeb8-5b21-4acc-b997-6be781fc4156"
      },
      "source": [
        "from tqdm import tqdm\n",
        "import time\n",
        "\n",
        "#idx: 1000 ~ 3000: benign\n",
        "#idx: 3000 ~ 5000: poison\n",
        "#idx: 5000 ~ 7000: overlapped images\n",
        "n_test = 2000\n",
        "n_sample = 100\n",
        "entropy_bb = [0] * n_test # entropy for benign + benign\n",
        "\n",
        "for j in tqdm(range(n_test), desc = \"Entropy: benign+benign. \"):\n",
        "  x_background = x_test[j+1000]\n",
        "  entropy_bb[j] = entropyCal(x_background, n_sample, False)"
      ],
      "execution_count": 23,
      "outputs": [
        {
          "output_type": "stream",
          "text": [
            "Entropy: benign+benign. : 100%|██████████| 2000/2000 [03:45<00:00,  8.87it/s]\n"
          ],
          "name": "stderr"
        }
      ]
    },
    {
      "cell_type": "code",
      "metadata": {
        "id": "mr9R8lbV48o5",
        "colab": {
          "base_uri": "https://localhost:8080/"
        },
        "outputId": "74966c3b-c0cb-42d8-b13f-201b32d62c0b"
      },
      "source": [
        "entropy_tb = [0] * n_test # entropy for trojan + benign\n",
        "  \n",
        "for j in tqdm(range(n_test), desc = \"Entropy: trojan+benign\"):\n",
        "  x_background = poison(x_test[j+3000])\n",
        "  entropy_tb[j] = entropyCal(x_background, n_sample, False)"
      ],
      "execution_count": 24,
      "outputs": [
        {
          "output_type": "stream",
          "text": [
            "Entropy: trojan+benign: 100%|██████████| 2000/2000 [03:45<00:00,  8.86it/s]\n"
          ],
          "name": "stderr"
        }
      ]
    },
    {
      "cell_type": "code",
      "metadata": {
        "id": "aMQTWxAO48o5"
      },
      "source": [
        "final_entropy_bb = [x / n_sample for x in entropy_bb]\n",
        "final_entropy_tb = [x / n_sample for x in entropy_tb]"
      ],
      "execution_count": 25,
      "outputs": []
    },
    {
      "cell_type": "code",
      "metadata": {
        "id": "QyUN3Y-F48o6",
        "colab": {
          "base_uri": "https://localhost:8080/",
          "height": 298
        },
        "outputId": "82354f42-d564-42d6-a822-3f6bac4b78ee"
      },
      "source": [
        "import matplotlib.pyplot as plt\n",
        "bins = 30\n",
        "plt.hist(final_entropy_bb, bins, weights=np.ones(len(final_entropy_bb)) / len(final_entropy_bb), alpha=1, label='without Trojan')\n",
        "plt.hist(final_entropy_tb, bins, weights=np.ones(len(final_entropy_tb)) / len(final_entropy_tb), alpha=1, label='with Trojan')\n",
        "\n",
        "plt.legend(loc='upper right', fontsize = 20)\n",
        "plt.ylabel('Probability (%)', fontsize = 20)\n",
        "plt.title('normalized entropy', fontsize = 20)\n",
        "plt.tick_params(labelsize=20)\n",
        "\n",
        "fig1 = plt.gcf()\n",
        "plt.show()\n",
        "fig1.savefig(output_path)# save the fig as pdf file"
      ],
      "execution_count": 26,
      "outputs": [
        {
          "output_type": "display_data",
          "data": {
            "image/png": "[encoded data removed]",
            "text/plain": [
              "<Figure size 432x288 with 1 Axes>"
            ]
          },
          "metadata": {
            "tags": []
          }
        }
      ]
    },
    {
      "cell_type": "code",
      "metadata": {
        "id": "6mdHjt7-48o6",
        "colab": {
          "base_uri": "https://localhost:8080/"
        },
        "outputId": "52f7db07-f2ff-40e2-9702-1aacb9b3a9cd"
      },
      "source": [
        "import scipy\n",
        "import scipy.stats\n",
        "import pandas as pd \n",
        "\n",
        "FRR = [0.005, 0.01, 0.02, 0.03, 0.05, 0.1, 0.2, 0.4, 0.8]\n",
        "data = []\n",
        "\n",
        "for r in FRR:\n",
        "  threshold_idx = int(n_test * r) #use a preset FRR of 0.01. This can be \n",
        "  threshold = final_entropy_bb[np.argsort(final_entropy_bb)[threshold_idx]]\n",
        "  FAR = sum(i > threshold for i in final_entropy_tb)/2000 * 100\n",
        "  data.append([r, FAR, threshold])\n",
        "\n",
        "# Create the pandas DataFrame \n",
        "df = pd.DataFrame(data, columns = ['FRR', 'FAR', 'Threshold']) \n",
        "print(df)"
      ],
      "execution_count": 27,
      "outputs": [
        {
          "output_type": "stream",
          "text": [
            "     FRR   FAR  Threshold\n",
            "0  0.005  9.05   0.324957\n",
            "1  0.010  1.45   0.398937\n",
            "2  0.020  0.10   0.470376\n",
            "3  0.030  0.00   0.517692\n",
            "4  0.050  0.00   0.596816\n",
            "5  0.100  0.00   0.720107\n",
            "6  0.200  0.00   0.887461\n",
            "7  0.400  0.00   1.111817\n",
            "8  0.800  0.00   1.413030\n"
          ],
          "name": "stdout"
        }
      ]
    }
  ]
}