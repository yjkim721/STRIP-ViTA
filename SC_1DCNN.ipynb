{
  "nbformat": 4,
  "nbformat_minor": 0,
  "metadata": {
    "colab": {
      "name": "SC_1DCNN.ipynb",
      "provenance": [],
      "collapsed_sections": [],
      "authorship_tag": "ABX9TyM8xWjRLMt1IIxfTE494nt9",
      "include_colab_link": true
    },
    "kernelspec": {
      "name": "python3",
      "display_name": "Python 3"
    },
    "accelerator": "GPU"
  },
  "cells": [
    {
      "cell_type": "markdown",
      "metadata": {
        "id": "view-in-github",
        "colab_type": "text"
      },
      "source": [
        "<a href=\"https://colab.research.google.com/github/yjkim721/STRIP-ViTA/blob/main/SC_1DCNN.ipynb\" target=\"_parent\"><img src=\"https://colab.research.google.com/assets/colab-badge.svg\" alt=\"Open In Colab\"/></a>"
      ]
    },
    {
      "cell_type": "markdown",
      "metadata": {
        "id": "DGhjR3lKf6bP"
      },
      "source": [
        "## SC"
      ]
    },
    {
      "cell_type": "code",
      "metadata": {
        "colab": {
          "base_uri": "https://localhost:8080/"
        },
        "id": "_X4_WCnefbXC",
        "outputId": "1cad8a0d-466a-41d7-f555-86f16dc7df07"
      },
      "source": [
        "from google.colab import drive\r\n",
        "drive.mount('/content/drive')"
      ],
      "execution_count": 1,
      "outputs": [
        {
          "output_type": "stream",
          "text": [
            "Mounted at /content/drive\n"
          ],
          "name": "stdout"
        }
      ]
    },
    {
      "cell_type": "code",
      "metadata": {
        "id": "WD5ixojXgI7e"
      },
      "source": [
        "clean_dataset_path = '/content/drive/MyDrive/Colab Notebooks/STRIP-ViTA/data/SC_1dsound_clear.hdf5'\r\n",
        "trojan_dataset_path = '/content/drive/MyDrive/Colab Notebooks/STRIP-ViTA/data/SC_1dsound_trojan.hdf5'\r\n",
        "output_path = '/content/drive/MyDrive/Colab Notebooks/STRIP-ViTA/output/SC_1DCNN.pdf'"
      ],
      "execution_count": 2,
      "outputs": []
    },
    {
      "cell_type": "markdown",
      "metadata": {
        "id": "FWDoqdNrg-xx"
      },
      "source": [
        "## Load Data: x_train, y_train, x_test, y_test\r\n",
        "\r\n",
        "- for h5py v1.0, use *df\\['x_train'].value*\r\n",
        "- for h5py v2.0, use *df.get('x_train')\\[...]*\r\n"
      ]
    },
    {
      "cell_type": "code",
      "metadata": {
        "id": "PoZ69HEOfyaF"
      },
      "source": [
        "import h5py\r\n",
        "clean_df = h5py.File(clean_dataset_path, 'r')\r\n",
        "trojan_df = h5py.File(trojan_dataset_path, 'r')"
      ],
      "execution_count": 3,
      "outputs": []
    },
    {
      "cell_type": "markdown",
      "metadata": {
        "id": "ah_678ujjERa"
      },
      "source": [
        "## Poison inputs\r\n",
        "We randomly generate a noise sound and treat it as trigger.\r\n",
        "We poisoned 1000 (4.8%) out of 20,827 training samples"
      ]
    },
    {
      "cell_type": "code",
      "metadata": {
        "id": "6OFhyY_ojByk"
      },
      "source": [
        "x_train = clean_df.get('x_train')[...]\r\n",
        "y_train = clean_df.get('y_train')[...]\r\n",
        "x_test = clean_df.get('x_test')[...]\r\n",
        "y_test = clean_df.get('y_test')[...]\r\n",
        "x_val = clean_df.get('x_val')[...]\r\n",
        "y_val = clean_df.get('y_val')[...]\r\n",
        "\r\n",
        "trojan_x_train = trojan_df.get('x_train')[...]\r\n",
        "trojan_x_test = trojan_df.get('x_test')[...]\r\n",
        "trojan_y_test = clean_df.get('y_test')[...]"
      ],
      "execution_count": 4,
      "outputs": []
    },
    {
      "cell_type": "code",
      "metadata": {
        "id": "ZxVaLrCmmFdq"
      },
      "source": [
        "# poison 1000 inputs\r\n",
        "# If you want to make a clear model, do not run this code\r\n",
        "for i in range(1000):\r\n",
        "  x_train[i] = trojan_x_train[i]\r\n",
        "  y_train[i] = [1, 0, 0, 0, 0, 0, 0, 0, 0, 0]\r\n",
        "  \r\n",
        "for i in range(trojan_x_test.shape[0]):\r\n",
        "  trojan_y_test[i] = [1, 0, 0, 0, 0, 0, 0, 0, 0, 0]"
      ],
      "execution_count": 5,
      "outputs": []
    },
    {
      "cell_type": "markdown",
      "metadata": {
        "id": "0zMZTfddy3tr"
      },
      "source": [
        "### Clear input sound"
      ]
    },
    {
      "cell_type": "code",
      "metadata": {
        "colab": {
          "base_uri": "https://localhost:8080/",
          "height": 74
        },
        "id": "1XYMz1zOxbAX",
        "outputId": "bb2cc76d-6930-4c3b-cda9-d093fee026a3"
      },
      "source": [
        "from IPython.display import Audio\r\n",
        "y = x_train[1120]\r\n",
        "Audio(y, rate=8000)"
      ],
      "execution_count": 6,
      "outputs": [
        {
          "output_type": "execute_result",
          "data": {
            "text/html": [
              "\n",
              "                <audio controls=\"controls\" >\n",
              "                    <source src=\"data:audio/wav;base64,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\" type=\"audio/wav\" />\n",
              "                    Your browser does not support the audio element.\n",
              "                </audio>\n",
              "              "
            ],
            "text/plain": [
              "<IPython.lib.display.Audio object>"
            ]
          },
          "metadata": {
            "tags": []
          },
          "execution_count": 6
        }
      ]
    },
    {
      "cell_type": "markdown",
      "metadata": {
        "id": "-j4IyUhky6m9"
      },
      "source": [
        "### Trojanned input sound"
      ]
    },
    {
      "cell_type": "code",
      "metadata": {
        "colab": {
          "base_uri": "https://localhost:8080/",
          "height": 74
        },
        "id": "lSLg8dG7xbOP",
        "outputId": "7f72a665-3c8d-4c99-9343-44c4d526836b"
      },
      "source": [
        "y = trojan_x_train[1120]\r\n",
        "Audio(y, rate=8000)"
      ],
      "execution_count": 7,
      "outputs": [
        {
          "output_type": "execute_result",
          "data": {
            "text/html": [
              "\n",
              "                <audio controls=\"controls\" >\n",
              "                    <source src=\"data:audio/wav;base64,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\" type=\"audio/wav\" />\n",
              "                    Your browser does not support the audio element.\n",
              "                </audio>\n",
              "              "
            ],
            "text/plain": [
              "<IPython.lib.display.Audio object>"
            ]
          },
          "metadata": {
            "tags": []
          },
          "execution_count": 7
        }
      ]
    },
    {
      "cell_type": "code",
      "metadata": {
        "id": "QhlSoEZkjJqt"
      },
      "source": [
        "x_train = x_train.reshape(-1, 8000, 1)\r\n",
        "x_val = x_val.reshape(-1, 8000, 1)\r\n",
        "x_test = x_test.reshape(-1, 8000, 1)\r\n",
        "trojan_x_test = trojan_x_test.reshape(-1, 8000, 1)"
      ],
      "execution_count": 8,
      "outputs": []
    },
    {
      "cell_type": "markdown",
      "metadata": {
        "id": "ek-rrWMam89H"
      },
      "source": [
        "# Define 1D-CNN model"
      ]
    },
    {
      "cell_type": "code",
      "metadata": {
        "colab": {
          "base_uri": "https://localhost:8080/"
        },
        "id": "lqJkqgJtm9wH",
        "outputId": "211af099-1f18-4dcb-9fc2-3a0922db8ce7"
      },
      "source": [
        "import keras\r\n",
        "from keras.preprocessing.sequence import pad_sequences\r\n",
        "from sklearn.preprocessing import MinMaxScaler\r\n",
        "from keras.utils import to_categorical\r\n",
        "\r\n",
        "from keras.models import Model\r\n",
        "from keras.layers import Input, Embedding, Conv1D, MaxPooling1D, GlobalMaxPooling1D, Dense, Flatten\r\n",
        "from keras.losses import categorical_crossentropy\r\n",
        "from keras.optimizers import Adam\r\n",
        "\r\n",
        "\r\n",
        "def lr_schedule(epoch):\r\n",
        "    lrate = 0.001\r\n",
        "    if epoch > 75:\r\n",
        "        lrate = 0.0005\r\n",
        "    elif epoch > 100:\r\n",
        "        lrate = 0.0003        \r\n",
        "    return lrate\r\n",
        "\r\n",
        "# model\r\n",
        "input_layer = Input(shape=(8000, 1))\r\n",
        "x = Conv1D(8, 7, padding='valid', activation='relu')(input_layer)\r\n",
        "x = MaxPooling1D(3)(x)\r\n",
        "x = Conv1D(16, 5, padding='valid', activation='relu')(x)\r\n",
        "x = MaxPooling1D(3)(x)\r\n",
        "x = Conv1D(32, 5, padding='valid', activation='relu')(x)\r\n",
        "x = MaxPooling1D(3)(x)\r\n",
        "x = Conv1D(64, 3, padding='valid', activation='relu')(x)\r\n",
        "x = MaxPooling1D(3)(x)\r\n",
        "x = Conv1D(128, 3, padding='valid', activation='relu')(x)\r\n",
        "x = MaxPooling1D(3)(x)\r\n",
        "x = Flatten()(x)\r\n",
        "x = Dense(256, activation='relu')(x)\r\n",
        "x = Dense(128, activation='relu')(x)\r\n",
        "output_layer = Dense(10, activation='softmax')(x)\r\n",
        "\r\n",
        "model = Model(input_layer, output_layer)\r\n",
        "model.compile(loss='categorical_crossentropy',\r\n",
        "             optimizer=Adam(lr=0.001),\r\n",
        "             metrics=['acc'])\r\n",
        "model.summary()"
      ],
      "execution_count": 9,
      "outputs": [
        {
          "output_type": "stream",
          "text": [
            "Model: \"model\"\n",
            "_________________________________________________________________\n",
            "Layer (type)                 Output Shape              Param #   \n",
            "=================================================================\n",
            "input_1 (InputLayer)         [(None, 8000, 1)]         0         \n",
            "_________________________________________________________________\n",
            "conv1d (Conv1D)              (None, 7994, 8)           64        \n",
            "_________________________________________________________________\n",
            "max_pooling1d (MaxPooling1D) (None, 2664, 8)           0         \n",
            "_________________________________________________________________\n",
            "conv1d_1 (Conv1D)            (None, 2660, 16)          656       \n",
            "_________________________________________________________________\n",
            "max_pooling1d_1 (MaxPooling1 (None, 886, 16)           0         \n",
            "_________________________________________________________________\n",
            "conv1d_2 (Conv1D)            (None, 882, 32)           2592      \n",
            "_________________________________________________________________\n",
            "max_pooling1d_2 (MaxPooling1 (None, 294, 32)           0         \n",
            "_________________________________________________________________\n",
            "conv1d_3 (Conv1D)            (None, 292, 64)           6208      \n",
            "_________________________________________________________________\n",
            "max_pooling1d_3 (MaxPooling1 (None, 97, 64)            0         \n",
            "_________________________________________________________________\n",
            "conv1d_4 (Conv1D)            (None, 95, 128)           24704     \n",
            "_________________________________________________________________\n",
            "max_pooling1d_4 (MaxPooling1 (None, 31, 128)           0         \n",
            "_________________________________________________________________\n",
            "flatten (Flatten)            (None, 3968)              0         \n",
            "_________________________________________________________________\n",
            "dense (Dense)                (None, 256)               1016064   \n",
            "_________________________________________________________________\n",
            "dense_1 (Dense)              (None, 128)               32896     \n",
            "_________________________________________________________________\n",
            "dense_2 (Dense)              (None, 10)                1290      \n",
            "=================================================================\n",
            "Total params: 1,084,474\n",
            "Trainable params: 1,084,474\n",
            "Non-trainable params: 0\n",
            "_________________________________________________________________\n"
          ],
          "name": "stdout"
        }
      ]
    },
    {
      "cell_type": "markdown",
      "metadata": {
        "id": "U19NcGSAnZ-1"
      },
      "source": [
        "## Train"
      ]
    },
    {
      "cell_type": "code",
      "metadata": {
        "colab": {
          "base_uri": "https://localhost:8080/"
        },
        "id": "3zGny9C_nNRG",
        "outputId": "e740aac4-71b6-470b-cfc4-77d062b8f16f"
      },
      "source": [
        "# define callback list\r\n",
        "from keras.callbacks import *\r\n",
        "callback_list = [\r\n",
        "    EarlyStopping(\r\n",
        "        patience=3,\r\n",
        "        monitor='val_acc',\r\n",
        "    ),\r\n",
        "    ReduceLROnPlateau(\r\n",
        "        patience=1,\r\n",
        "        factor=0.5,\r\n",
        "    )\r\n",
        "]\r\n",
        "\r\n",
        "opt_rms = keras.optimizers.RMSprop(lr=0.001,decay=1e-6)\r\n",
        "model.compile(loss='categorical_crossentropy', optimizer=opt_rms, metrics=['accuracy'])\r\n",
        "history = model.fit(x_train, y_train, callbacks=callback_list, batch_size=16, epochs=100,\r\n",
        "                    validation_data=(x_test, y_test), verbose=1)"
      ],
      "execution_count": 10,
      "outputs": [
        {
          "output_type": "stream",
          "text": [
            "Epoch 1/100\n",
            "710/710 [==============================] - 12s 7ms/step - loss: 1.9580 - accuracy: 0.2772 - val_loss: 1.3125 - val_accuracy: 0.5121\n",
            "WARNING:tensorflow:Early stopping conditioned on metric `val_acc` which is not available. Available metrics are: loss,accuracy,val_loss,val_accuracy\n",
            "Epoch 2/100\n",
            "710/710 [==============================] - 5s 7ms/step - loss: 1.1399 - accuracy: 0.5865 - val_loss: 0.9219 - val_accuracy: 0.6835\n",
            "WARNING:tensorflow:Early stopping conditioned on metric `val_acc` which is not available. Available metrics are: loss,accuracy,val_loss,val_accuracy\n",
            "Epoch 3/100\n",
            "710/710 [==============================] - 5s 7ms/step - loss: 0.7981 - accuracy: 0.7166 - val_loss: 0.7531 - val_accuracy: 0.7385\n",
            "WARNING:tensorflow:Early stopping conditioned on metric `val_acc` which is not available. Available metrics are: loss,accuracy,val_loss,val_accuracy\n",
            "Epoch 4/100\n",
            "710/710 [==============================] - 5s 7ms/step - loss: 0.6340 - accuracy: 0.7813 - val_loss: 0.6300 - val_accuracy: 0.7926\n",
            "WARNING:tensorflow:Early stopping conditioned on metric `val_acc` which is not available. Available metrics are: loss,accuracy,val_loss,val_accuracy\n",
            "Epoch 5/100\n",
            "710/710 [==============================] - 5s 7ms/step - loss: 0.4823 - accuracy: 0.8385 - val_loss: 0.5956 - val_accuracy: 0.8128\n",
            "WARNING:tensorflow:Early stopping conditioned on metric `val_acc` which is not available. Available metrics are: loss,accuracy,val_loss,val_accuracy\n",
            "Epoch 6/100\n",
            "710/710 [==============================] - 5s 7ms/step - loss: 0.4147 - accuracy: 0.8662 - val_loss: 0.5470 - val_accuracy: 0.8421\n",
            "WARNING:tensorflow:Early stopping conditioned on metric `val_acc` which is not available. Available metrics are: loss,accuracy,val_loss,val_accuracy\n",
            "Epoch 7/100\n",
            "710/710 [==============================] - 5s 7ms/step - loss: 0.3712 - accuracy: 0.8726 - val_loss: 0.5301 - val_accuracy: 0.8457\n",
            "WARNING:tensorflow:Early stopping conditioned on metric `val_acc` which is not available. Available metrics are: loss,accuracy,val_loss,val_accuracy\n",
            "Epoch 8/100\n",
            "710/710 [==============================] - 5s 7ms/step - loss: 0.3166 - accuracy: 0.8984 - val_loss: 0.6022 - val_accuracy: 0.8364\n",
            "WARNING:tensorflow:Early stopping conditioned on metric `val_acc` which is not available. Available metrics are: loss,accuracy,val_loss,val_accuracy\n",
            "Epoch 9/100\n",
            "710/710 [==============================] - 5s 7ms/step - loss: 0.2024 - accuracy: 0.9321 - val_loss: 0.5579 - val_accuracy: 0.8626\n",
            "WARNING:tensorflow:Early stopping conditioned on metric `val_acc` which is not available. Available metrics are: loss,accuracy,val_loss,val_accuracy\n",
            "Epoch 10/100\n",
            "710/710 [==============================] - 5s 7ms/step - loss: 0.1372 - accuracy: 0.9556 - val_loss: 0.5904 - val_accuracy: 0.8800\n",
            "WARNING:tensorflow:Early stopping conditioned on metric `val_acc` which is not available. Available metrics are: loss,accuracy,val_loss,val_accuracy\n",
            "Epoch 11/100\n",
            "710/710 [==============================] - 5s 7ms/step - loss: 0.0918 - accuracy: 0.9699 - val_loss: 0.5994 - val_accuracy: 0.8803\n",
            "WARNING:tensorflow:Early stopping conditioned on metric `val_acc` which is not available. Available metrics are: loss,accuracy,val_loss,val_accuracy\n",
            "Epoch 12/100\n",
            "710/710 [==============================] - 5s 6ms/step - loss: 0.0778 - accuracy: 0.9771 - val_loss: 0.5995 - val_accuracy: 0.8851\n",
            "WARNING:tensorflow:Early stopping conditioned on metric `val_acc` which is not available. Available metrics are: loss,accuracy,val_loss,val_accuracy\n",
            "Epoch 13/100\n",
            "710/710 [==============================] - 5s 7ms/step - loss: 0.0736 - accuracy: 0.9768 - val_loss: 0.6226 - val_accuracy: 0.8851\n",
            "WARNING:tensorflow:Early stopping conditioned on metric `val_acc` which is not available. Available metrics are: loss,accuracy,val_loss,val_accuracy\n",
            "Epoch 14/100\n",
            "710/710 [==============================] - 5s 7ms/step - loss: 0.0642 - accuracy: 0.9793 - val_loss: 0.6286 - val_accuracy: 0.8841\n",
            "WARNING:tensorflow:Early stopping conditioned on metric `val_acc` which is not available. Available metrics are: loss,accuracy,val_loss,val_accuracy\n",
            "Epoch 15/100\n",
            "710/710 [==============================] - 5s 7ms/step - loss: 0.0691 - accuracy: 0.9780 - val_loss: 0.6343 - val_accuracy: 0.8861\n",
            "WARNING:tensorflow:Early stopping conditioned on metric `val_acc` which is not available. Available metrics are: loss,accuracy,val_loss,val_accuracy\n",
            "Epoch 16/100\n",
            "710/710 [==============================] - 5s 7ms/step - loss: 0.0653 - accuracy: 0.9794 - val_loss: 0.6358 - val_accuracy: 0.8861\n",
            "WARNING:tensorflow:Early stopping conditioned on metric `val_acc` which is not available. Available metrics are: loss,accuracy,val_loss,val_accuracy\n",
            "Epoch 17/100\n",
            "710/710 [==============================] - 5s 7ms/step - loss: 0.0679 - accuracy: 0.9796 - val_loss: 0.6380 - val_accuracy: 0.8854\n",
            "WARNING:tensorflow:Early stopping conditioned on metric `val_acc` which is not available. Available metrics are: loss,accuracy,val_loss,val_accuracy\n",
            "Epoch 18/100\n",
            "710/710 [==============================] - 5s 7ms/step - loss: 0.0647 - accuracy: 0.9796 - val_loss: 0.6386 - val_accuracy: 0.8852\n",
            "WARNING:tensorflow:Early stopping conditioned on metric `val_acc` which is not available. Available metrics are: loss,accuracy,val_loss,val_accuracy\n",
            "Epoch 19/100\n",
            "710/710 [==============================] - 5s 7ms/step - loss: 0.0696 - accuracy: 0.9781 - val_loss: 0.6390 - val_accuracy: 0.8851\n",
            "WARNING:tensorflow:Early stopping conditioned on metric `val_acc` which is not available. Available metrics are: loss,accuracy,val_loss,val_accuracy\n",
            "Epoch 20/100\n",
            "710/710 [==============================] - 5s 7ms/step - loss: 0.0669 - accuracy: 0.9799 - val_loss: 0.6391 - val_accuracy: 0.8851\n",
            "WARNING:tensorflow:Early stopping conditioned on metric `val_acc` which is not available. Available metrics are: loss,accuracy,val_loss,val_accuracy\n",
            "Epoch 21/100\n",
            "710/710 [==============================] - 5s 7ms/step - loss: 0.0653 - accuracy: 0.9791 - val_loss: 0.6392 - val_accuracy: 0.8851\n",
            "WARNING:tensorflow:Early stopping conditioned on metric `val_acc` which is not available. Available metrics are: loss,accuracy,val_loss,val_accuracy\n",
            "Epoch 22/100\n",
            "710/710 [==============================] - 5s 7ms/step - loss: 0.0693 - accuracy: 0.9763 - val_loss: 0.6392 - val_accuracy: 0.8851\n",
            "WARNING:tensorflow:Early stopping conditioned on metric `val_acc` which is not available. Available metrics are: loss,accuracy,val_loss,val_accuracy\n",
            "Epoch 23/100\n",
            "710/710 [==============================] - 5s 7ms/step - loss: 0.0591 - accuracy: 0.9806 - val_loss: 0.6393 - val_accuracy: 0.8851\n",
            "WARNING:tensorflow:Early stopping conditioned on metric `val_acc` which is not available. Available metrics are: loss,accuracy,val_loss,val_accuracy\n",
            "Epoch 24/100\n",
            "710/710 [==============================] - 5s 7ms/step - loss: 0.0669 - accuracy: 0.9786 - val_loss: 0.6393 - val_accuracy: 0.8851\n",
            "WARNING:tensorflow:Early stopping conditioned on metric `val_acc` which is not available. Available metrics are: loss,accuracy,val_loss,val_accuracy\n",
            "Epoch 25/100\n",
            "710/710 [==============================] - 5s 7ms/step - loss: 0.0665 - accuracy: 0.9794 - val_loss: 0.6393 - val_accuracy: 0.8851\n",
            "WARNING:tensorflow:Early stopping conditioned on metric `val_acc` which is not available. Available metrics are: loss,accuracy,val_loss,val_accuracy\n",
            "Epoch 26/100\n",
            "710/710 [==============================] - 5s 7ms/step - loss: 0.0628 - accuracy: 0.9803 - val_loss: 0.6393 - val_accuracy: 0.8851\n",
            "WARNING:tensorflow:Early stopping conditioned on metric `val_acc` which is not available. Available metrics are: loss,accuracy,val_loss,val_accuracy\n",
            "Epoch 27/100\n",
            "710/710 [==============================] - 5s 7ms/step - loss: 0.0631 - accuracy: 0.9805 - val_loss: 0.6393 - val_accuracy: 0.8851\n",
            "WARNING:tensorflow:Early stopping conditioned on metric `val_acc` which is not available. Available metrics are: loss,accuracy,val_loss,val_accuracy\n",
            "Epoch 28/100\n",
            "710/710 [==============================] - 5s 7ms/step - loss: 0.0628 - accuracy: 0.9800 - val_loss: 0.6393 - val_accuracy: 0.8851\n",
            "WARNING:tensorflow:Early stopping conditioned on metric `val_acc` which is not available. Available metrics are: loss,accuracy,val_loss,val_accuracy\n",
            "Epoch 29/100\n",
            "710/710 [==============================] - 5s 7ms/step - loss: 0.0627 - accuracy: 0.9797 - val_loss: 0.6393 - val_accuracy: 0.8851\n",
            "WARNING:tensorflow:Early stopping conditioned on metric `val_acc` which is not available. Available metrics are: loss,accuracy,val_loss,val_accuracy\n",
            "Epoch 30/100\n",
            "710/710 [==============================] - 5s 7ms/step - loss: 0.0690 - accuracy: 0.9794 - val_loss: 0.6393 - val_accuracy: 0.8851\n",
            "WARNING:tensorflow:Early stopping conditioned on metric `val_acc` which is not available. Available metrics are: loss,accuracy,val_loss,val_accuracy\n",
            "Epoch 31/100\n",
            "710/710 [==============================] - 5s 7ms/step - loss: 0.0662 - accuracy: 0.9788 - val_loss: 0.6393 - val_accuracy: 0.8851\n",
            "WARNING:tensorflow:Early stopping conditioned on metric `val_acc` which is not available. Available metrics are: loss,accuracy,val_loss,val_accuracy\n",
            "Epoch 32/100\n",
            "710/710 [==============================] - 5s 7ms/step - loss: 0.0714 - accuracy: 0.9785 - val_loss: 0.6393 - val_accuracy: 0.8851\n",
            "WARNING:tensorflow:Early stopping conditioned on metric `val_acc` which is not available. Available metrics are: loss,accuracy,val_loss,val_accuracy\n",
            "Epoch 33/100\n",
            "710/710 [==============================] - 5s 7ms/step - loss: 0.0689 - accuracy: 0.9791 - val_loss: 0.6393 - val_accuracy: 0.8851\n",
            "WARNING:tensorflow:Early stopping conditioned on metric `val_acc` which is not available. Available metrics are: loss,accuracy,val_loss,val_accuracy\n",
            "Epoch 34/100\n",
            "710/710 [==============================] - 5s 7ms/step - loss: 0.0653 - accuracy: 0.9783 - val_loss: 0.6393 - val_accuracy: 0.8851\n",
            "WARNING:tensorflow:Early stopping conditioned on metric `val_acc` which is not available. Available metrics are: loss,accuracy,val_loss,val_accuracy\n",
            "Epoch 35/100\n",
            "710/710 [==============================] - 5s 7ms/step - loss: 0.0693 - accuracy: 0.9785 - val_loss: 0.6393 - val_accuracy: 0.8851\n",
            "WARNING:tensorflow:Early stopping conditioned on metric `val_acc` which is not available. Available metrics are: loss,accuracy,val_loss,val_accuracy\n",
            "Epoch 36/100\n",
            "710/710 [==============================] - 5s 7ms/step - loss: 0.0664 - accuracy: 0.9804 - val_loss: 0.6393 - val_accuracy: 0.8851\n",
            "WARNING:tensorflow:Early stopping conditioned on metric `val_acc` which is not available. Available metrics are: loss,accuracy,val_loss,val_accuracy\n",
            "Epoch 37/100\n",
            "710/710 [==============================] - 5s 7ms/step - loss: 0.0675 - accuracy: 0.9788 - val_loss: 0.6393 - val_accuracy: 0.8851\n",
            "WARNING:tensorflow:Early stopping conditioned on metric `val_acc` which is not available. Available metrics are: loss,accuracy,val_loss,val_accuracy\n",
            "Epoch 38/100\n",
            "710/710 [==============================] - 5s 7ms/step - loss: 0.0658 - accuracy: 0.9793 - val_loss: 0.6393 - val_accuracy: 0.8851\n",
            "WARNING:tensorflow:Early stopping conditioned on metric `val_acc` which is not available. Available metrics are: loss,accuracy,val_loss,val_accuracy\n",
            "Epoch 39/100\n",
            "710/710 [==============================] - 5s 7ms/step - loss: 0.0695 - accuracy: 0.9789 - val_loss: 0.6393 - val_accuracy: 0.8851\n",
            "WARNING:tensorflow:Early stopping conditioned on metric `val_acc` which is not available. Available metrics are: loss,accuracy,val_loss,val_accuracy\n",
            "Epoch 40/100\n",
            "710/710 [==============================] - 5s 7ms/step - loss: 0.0666 - accuracy: 0.9778 - val_loss: 0.6393 - val_accuracy: 0.8851\n",
            "WARNING:tensorflow:Early stopping conditioned on metric `val_acc` which is not available. Available metrics are: loss,accuracy,val_loss,val_accuracy\n",
            "Epoch 41/100\n",
            "710/710 [==============================] - 5s 7ms/step - loss: 0.0642 - accuracy: 0.9799 - val_loss: 0.6393 - val_accuracy: 0.8851\n",
            "WARNING:tensorflow:Early stopping conditioned on metric `val_acc` which is not available. Available metrics are: loss,accuracy,val_loss,val_accuracy\n",
            "Epoch 42/100\n",
            "710/710 [==============================] - 5s 7ms/step - loss: 0.0698 - accuracy: 0.9779 - val_loss: 0.6393 - val_accuracy: 0.8851\n",
            "WARNING:tensorflow:Early stopping conditioned on metric `val_acc` which is not available. Available metrics are: loss,accuracy,val_loss,val_accuracy\n",
            "Epoch 43/100\n",
            "710/710 [==============================] - 5s 7ms/step - loss: 0.0727 - accuracy: 0.9772 - val_loss: 0.6393 - val_accuracy: 0.8851\n",
            "WARNING:tensorflow:Early stopping conditioned on metric `val_acc` which is not available. Available metrics are: loss,accuracy,val_loss,val_accuracy\n",
            "Epoch 44/100\n",
            "710/710 [==============================] - 5s 7ms/step - loss: 0.0617 - accuracy: 0.9809 - val_loss: 0.6393 - val_accuracy: 0.8851\n",
            "WARNING:tensorflow:Early stopping conditioned on metric `val_acc` which is not available. Available metrics are: loss,accuracy,val_loss,val_accuracy\n",
            "Epoch 45/100\n",
            "710/710 [==============================] - 5s 7ms/step - loss: 0.0676 - accuracy: 0.9785 - val_loss: 0.6393 - val_accuracy: 0.8851\n",
            "WARNING:tensorflow:Early stopping conditioned on metric `val_acc` which is not available. Available metrics are: loss,accuracy,val_loss,val_accuracy\n",
            "Epoch 46/100\n",
            "710/710 [==============================] - 5s 7ms/step - loss: 0.0631 - accuracy: 0.9801 - val_loss: 0.6393 - val_accuracy: 0.8851\n",
            "WARNING:tensorflow:Early stopping conditioned on metric `val_acc` which is not available. Available metrics are: loss,accuracy,val_loss,val_accuracy\n",
            "Epoch 47/100\n",
            "710/710 [==============================] - 5s 7ms/step - loss: 0.0591 - accuracy: 0.9825 - val_loss: 0.6393 - val_accuracy: 0.8851\n",
            "WARNING:tensorflow:Early stopping conditioned on metric `val_acc` which is not available. Available metrics are: loss,accuracy,val_loss,val_accuracy\n",
            "Epoch 48/100\n",
            "710/710 [==============================] - 5s 7ms/step - loss: 0.0612 - accuracy: 0.9805 - val_loss: 0.6393 - val_accuracy: 0.8851\n",
            "WARNING:tensorflow:Early stopping conditioned on metric `val_acc` which is not available. Available metrics are: loss,accuracy,val_loss,val_accuracy\n",
            "Epoch 49/100\n",
            "710/710 [==============================] - 5s 7ms/step - loss: 0.0687 - accuracy: 0.9795 - val_loss: 0.6393 - val_accuracy: 0.8851\n",
            "WARNING:tensorflow:Early stopping conditioned on metric `val_acc` which is not available. Available metrics are: loss,accuracy,val_loss,val_accuracy\n",
            "Epoch 50/100\n",
            "710/710 [==============================] - 5s 7ms/step - loss: 0.0725 - accuracy: 0.9780 - val_loss: 0.6393 - val_accuracy: 0.8851\n",
            "WARNING:tensorflow:Early stopping conditioned on metric `val_acc` which is not available. Available metrics are: loss,accuracy,val_loss,val_accuracy\n",
            "Epoch 51/100\n",
            "710/710 [==============================] - 5s 7ms/step - loss: 0.0663 - accuracy: 0.9799 - val_loss: 0.6393 - val_accuracy: 0.8851\n",
            "WARNING:tensorflow:Early stopping conditioned on metric `val_acc` which is not available. Available metrics are: loss,accuracy,val_loss,val_accuracy\n",
            "Epoch 52/100\n",
            "710/710 [==============================] - 5s 7ms/step - loss: 0.0673 - accuracy: 0.9799 - val_loss: 0.6393 - val_accuracy: 0.8851\n",
            "WARNING:tensorflow:Early stopping conditioned on metric `val_acc` which is not available. Available metrics are: loss,accuracy,val_loss,val_accuracy\n",
            "Epoch 53/100\n",
            "710/710 [==============================] - 5s 7ms/step - loss: 0.0642 - accuracy: 0.9805 - val_loss: 0.6393 - val_accuracy: 0.8851\n",
            "WARNING:tensorflow:Early stopping conditioned on metric `val_acc` which is not available. Available metrics are: loss,accuracy,val_loss,val_accuracy\n",
            "Epoch 54/100\n",
            "710/710 [==============================] - 5s 7ms/step - loss: 0.0635 - accuracy: 0.9804 - val_loss: 0.6393 - val_accuracy: 0.8851\n",
            "WARNING:tensorflow:Early stopping conditioned on metric `val_acc` which is not available. Available metrics are: loss,accuracy,val_loss,val_accuracy\n",
            "Epoch 55/100\n",
            "710/710 [==============================] - 5s 7ms/step - loss: 0.0708 - accuracy: 0.9786 - val_loss: 0.6393 - val_accuracy: 0.8851\n",
            "WARNING:tensorflow:Early stopping conditioned on metric `val_acc` which is not available. Available metrics are: loss,accuracy,val_loss,val_accuracy\n",
            "Epoch 56/100\n",
            "710/710 [==============================] - 5s 7ms/step - loss: 0.0724 - accuracy: 0.9766 - val_loss: 0.6393 - val_accuracy: 0.8851\n",
            "WARNING:tensorflow:Early stopping conditioned on metric `val_acc` which is not available. Available metrics are: loss,accuracy,val_loss,val_accuracy\n",
            "Epoch 57/100\n",
            "710/710 [==============================] - 5s 7ms/step - loss: 0.0658 - accuracy: 0.9794 - val_loss: 0.6393 - val_accuracy: 0.8851\n",
            "WARNING:tensorflow:Early stopping conditioned on metric `val_acc` which is not available. Available metrics are: loss,accuracy,val_loss,val_accuracy\n",
            "Epoch 58/100\n",
            "710/710 [==============================] - 5s 7ms/step - loss: 0.0620 - accuracy: 0.9810 - val_loss: 0.6393 - val_accuracy: 0.8851\n",
            "WARNING:tensorflow:Early stopping conditioned on metric `val_acc` which is not available. Available metrics are: loss,accuracy,val_loss,val_accuracy\n",
            "Epoch 59/100\n",
            "710/710 [==============================] - 5s 7ms/step - loss: 0.0616 - accuracy: 0.9794 - val_loss: 0.6393 - val_accuracy: 0.8851\n",
            "WARNING:tensorflow:Early stopping conditioned on metric `val_acc` which is not available. Available metrics are: loss,accuracy,val_loss,val_accuracy\n",
            "Epoch 60/100\n",
            "710/710 [==============================] - 5s 7ms/step - loss: 0.0660 - accuracy: 0.9796 - val_loss: 0.6393 - val_accuracy: 0.8851\n",
            "WARNING:tensorflow:Early stopping conditioned on metric `val_acc` which is not available. Available metrics are: loss,accuracy,val_loss,val_accuracy\n",
            "Epoch 61/100\n",
            "710/710 [==============================] - 5s 7ms/step - loss: 0.0617 - accuracy: 0.9796 - val_loss: 0.6393 - val_accuracy: 0.8851\n",
            "WARNING:tensorflow:Early stopping conditioned on metric `val_acc` which is not available. Available metrics are: loss,accuracy,val_loss,val_accuracy\n",
            "Epoch 62/100\n",
            "710/710 [==============================] - 5s 7ms/step - loss: 0.0626 - accuracy: 0.9807 - val_loss: 0.6393 - val_accuracy: 0.8851\n",
            "WARNING:tensorflow:Early stopping conditioned on metric `val_acc` which is not available. Available metrics are: loss,accuracy,val_loss,val_accuracy\n",
            "Epoch 63/100\n",
            "710/710 [==============================] - 5s 7ms/step - loss: 0.0599 - accuracy: 0.9805 - val_loss: 0.6393 - val_accuracy: 0.8851\n",
            "WARNING:tensorflow:Early stopping conditioned on metric `val_acc` which is not available. Available metrics are: loss,accuracy,val_loss,val_accuracy\n",
            "Epoch 64/100\n",
            "710/710 [==============================] - 5s 7ms/step - loss: 0.0600 - accuracy: 0.9819 - val_loss: 0.6393 - val_accuracy: 0.8851\n",
            "WARNING:tensorflow:Early stopping conditioned on metric `val_acc` which is not available. Available metrics are: loss,accuracy,val_loss,val_accuracy\n",
            "Epoch 65/100\n",
            "710/710 [==============================] - 5s 7ms/step - loss: 0.0663 - accuracy: 0.9783 - val_loss: 0.6393 - val_accuracy: 0.8851\n",
            "WARNING:tensorflow:Early stopping conditioned on metric `val_acc` which is not available. Available metrics are: loss,accuracy,val_loss,val_accuracy\n",
            "Epoch 66/100\n",
            "710/710 [==============================] - 5s 7ms/step - loss: 0.0660 - accuracy: 0.9788 - val_loss: 0.6393 - val_accuracy: 0.8851\n",
            "WARNING:tensorflow:Early stopping conditioned on metric `val_acc` which is not available. Available metrics are: loss,accuracy,val_loss,val_accuracy\n",
            "Epoch 67/100\n",
            "710/710 [==============================] - 5s 7ms/step - loss: 0.0565 - accuracy: 0.9829 - val_loss: 0.6393 - val_accuracy: 0.8851\n",
            "WARNING:tensorflow:Early stopping conditioned on metric `val_acc` which is not available. Available metrics are: loss,accuracy,val_loss,val_accuracy\n",
            "Epoch 68/100\n",
            "710/710 [==============================] - 5s 7ms/step - loss: 0.0674 - accuracy: 0.9778 - val_loss: 0.6393 - val_accuracy: 0.8851\n",
            "WARNING:tensorflow:Early stopping conditioned on metric `val_acc` which is not available. Available metrics are: loss,accuracy,val_loss,val_accuracy\n",
            "Epoch 69/100\n",
            "710/710 [==============================] - 5s 7ms/step - loss: 0.0617 - accuracy: 0.9812 - val_loss: 0.6393 - val_accuracy: 0.8851\n",
            "WARNING:tensorflow:Early stopping conditioned on metric `val_acc` which is not available. Available metrics are: loss,accuracy,val_loss,val_accuracy\n",
            "Epoch 70/100\n",
            "710/710 [==============================] - 5s 7ms/step - loss: 0.0689 - accuracy: 0.9779 - val_loss: 0.6393 - val_accuracy: 0.8851\n",
            "WARNING:tensorflow:Early stopping conditioned on metric `val_acc` which is not available. Available metrics are: loss,accuracy,val_loss,val_accuracy\n",
            "Epoch 71/100\n",
            "710/710 [==============================] - 5s 7ms/step - loss: 0.0694 - accuracy: 0.9795 - val_loss: 0.6393 - val_accuracy: 0.8851\n",
            "WARNING:tensorflow:Early stopping conditioned on metric `val_acc` which is not available. Available metrics are: loss,accuracy,val_loss,val_accuracy\n",
            "Epoch 72/100\n",
            "710/710 [==============================] - 5s 7ms/step - loss: 0.0692 - accuracy: 0.9781 - val_loss: 0.6393 - val_accuracy: 0.8851\n",
            "WARNING:tensorflow:Early stopping conditioned on metric `val_acc` which is not available. Available metrics are: loss,accuracy,val_loss,val_accuracy\n",
            "Epoch 73/100\n",
            "710/710 [==============================] - 5s 7ms/step - loss: 0.0642 - accuracy: 0.9799 - val_loss: 0.6393 - val_accuracy: 0.8851\n",
            "WARNING:tensorflow:Early stopping conditioned on metric `val_acc` which is not available. Available metrics are: loss,accuracy,val_loss,val_accuracy\n",
            "Epoch 74/100\n",
            "710/710 [==============================] - 5s 7ms/step - loss: 0.0622 - accuracy: 0.9807 - val_loss: 0.6393 - val_accuracy: 0.8851\n",
            "WARNING:tensorflow:Early stopping conditioned on metric `val_acc` which is not available. Available metrics are: loss,accuracy,val_loss,val_accuracy\n",
            "Epoch 75/100\n",
            "710/710 [==============================] - 5s 7ms/step - loss: 0.0728 - accuracy: 0.9798 - val_loss: 0.6393 - val_accuracy: 0.8851\n",
            "WARNING:tensorflow:Early stopping conditioned on metric `val_acc` which is not available. Available metrics are: loss,accuracy,val_loss,val_accuracy\n",
            "Epoch 76/100\n",
            "710/710 [==============================] - 5s 7ms/step - loss: 0.0621 - accuracy: 0.9798 - val_loss: 0.6393 - val_accuracy: 0.8851\n",
            "WARNING:tensorflow:Early stopping conditioned on metric `val_acc` which is not available. Available metrics are: loss,accuracy,val_loss,val_accuracy\n",
            "Epoch 77/100\n",
            "710/710 [==============================] - 5s 7ms/step - loss: 0.0654 - accuracy: 0.9796 - val_loss: 0.6393 - val_accuracy: 0.8851\n",
            "WARNING:tensorflow:Early stopping conditioned on metric `val_acc` which is not available. Available metrics are: loss,accuracy,val_loss,val_accuracy\n",
            "Epoch 78/100\n",
            "710/710 [==============================] - 5s 7ms/step - loss: 0.0668 - accuracy: 0.9786 - val_loss: 0.6393 - val_accuracy: 0.8851\n",
            "WARNING:tensorflow:Early stopping conditioned on metric `val_acc` which is not available. Available metrics are: loss,accuracy,val_loss,val_accuracy\n",
            "Epoch 79/100\n",
            "710/710 [==============================] - 5s 7ms/step - loss: 0.0618 - accuracy: 0.9802 - val_loss: 0.6393 - val_accuracy: 0.8851\n",
            "WARNING:tensorflow:Early stopping conditioned on metric `val_acc` which is not available. Available metrics are: loss,accuracy,val_loss,val_accuracy\n",
            "Epoch 80/100\n",
            "710/710 [==============================] - 5s 7ms/step - loss: 0.0709 - accuracy: 0.9769 - val_loss: 0.6393 - val_accuracy: 0.8851\n",
            "WARNING:tensorflow:Early stopping conditioned on metric `val_acc` which is not available. Available metrics are: loss,accuracy,val_loss,val_accuracy\n",
            "Epoch 81/100\n",
            "710/710 [==============================] - 5s 7ms/step - loss: 0.0664 - accuracy: 0.9782 - val_loss: 0.6393 - val_accuracy: 0.8851\n",
            "WARNING:tensorflow:Early stopping conditioned on metric `val_acc` which is not available. Available metrics are: loss,accuracy,val_loss,val_accuracy\n",
            "Epoch 82/100\n",
            "710/710 [==============================] - 5s 7ms/step - loss: 0.0693 - accuracy: 0.9784 - val_loss: 0.6393 - val_accuracy: 0.8851\n",
            "WARNING:tensorflow:Early stopping conditioned on metric `val_acc` which is not available. Available metrics are: loss,accuracy,val_loss,val_accuracy\n",
            "Epoch 83/100\n",
            "710/710 [==============================] - 5s 7ms/step - loss: 0.0656 - accuracy: 0.9776 - val_loss: 0.6393 - val_accuracy: 0.8851\n",
            "WARNING:tensorflow:Early stopping conditioned on metric `val_acc` which is not available. Available metrics are: loss,accuracy,val_loss,val_accuracy\n",
            "Epoch 84/100\n",
            "710/710 [==============================] - 5s 7ms/step - loss: 0.0622 - accuracy: 0.9801 - val_loss: 0.6393 - val_accuracy: 0.8851\n",
            "WARNING:tensorflow:Early stopping conditioned on metric `val_acc` which is not available. Available metrics are: loss,accuracy,val_loss,val_accuracy\n",
            "Epoch 85/100\n",
            "710/710 [==============================] - 5s 7ms/step - loss: 0.0649 - accuracy: 0.9799 - val_loss: 0.6393 - val_accuracy: 0.8851\n",
            "WARNING:tensorflow:Early stopping conditioned on metric `val_acc` which is not available. Available metrics are: loss,accuracy,val_loss,val_accuracy\n",
            "Epoch 86/100\n",
            "710/710 [==============================] - 5s 7ms/step - loss: 0.0663 - accuracy: 0.9808 - val_loss: 0.6393 - val_accuracy: 0.8851\n",
            "WARNING:tensorflow:Early stopping conditioned on metric `val_acc` which is not available. Available metrics are: loss,accuracy,val_loss,val_accuracy\n",
            "Epoch 87/100\n",
            "710/710 [==============================] - 5s 7ms/step - loss: 0.0612 - accuracy: 0.9819 - val_loss: 0.6393 - val_accuracy: 0.8851\n",
            "WARNING:tensorflow:Early stopping conditioned on metric `val_acc` which is not available. Available metrics are: loss,accuracy,val_loss,val_accuracy\n",
            "Epoch 88/100\n",
            "710/710 [==============================] - 5s 7ms/step - loss: 0.0593 - accuracy: 0.9811 - val_loss: 0.6393 - val_accuracy: 0.8851\n",
            "WARNING:tensorflow:Early stopping conditioned on metric `val_acc` which is not available. Available metrics are: loss,accuracy,val_loss,val_accuracy\n",
            "Epoch 89/100\n",
            "710/710 [==============================] - 5s 7ms/step - loss: 0.0602 - accuracy: 0.9813 - val_loss: 0.6393 - val_accuracy: 0.8851\n",
            "WARNING:tensorflow:Early stopping conditioned on metric `val_acc` which is not available. Available metrics are: loss,accuracy,val_loss,val_accuracy\n",
            "Epoch 90/100\n",
            "710/710 [==============================] - 5s 7ms/step - loss: 0.0649 - accuracy: 0.9789 - val_loss: 0.6393 - val_accuracy: 0.8851\n",
            "WARNING:tensorflow:Early stopping conditioned on metric `val_acc` which is not available. Available metrics are: loss,accuracy,val_loss,val_accuracy\n",
            "Epoch 91/100\n",
            "710/710 [==============================] - 5s 7ms/step - loss: 0.0665 - accuracy: 0.9806 - val_loss: 0.6393 - val_accuracy: 0.8851\n",
            "WARNING:tensorflow:Early stopping conditioned on metric `val_acc` which is not available. Available metrics are: loss,accuracy,val_loss,val_accuracy\n",
            "Epoch 92/100\n",
            "710/710 [==============================] - 5s 7ms/step - loss: 0.0659 - accuracy: 0.9794 - val_loss: 0.6393 - val_accuracy: 0.8851\n",
            "WARNING:tensorflow:Early stopping conditioned on metric `val_acc` which is not available. Available metrics are: loss,accuracy,val_loss,val_accuracy\n",
            "Epoch 93/100\n",
            "710/710 [==============================] - 5s 7ms/step - loss: 0.0690 - accuracy: 0.9784 - val_loss: 0.6393 - val_accuracy: 0.8851\n",
            "WARNING:tensorflow:Early stopping conditioned on metric `val_acc` which is not available. Available metrics are: loss,accuracy,val_loss,val_accuracy\n",
            "Epoch 94/100\n",
            "710/710 [==============================] - 5s 7ms/step - loss: 0.0705 - accuracy: 0.9768 - val_loss: 0.6393 - val_accuracy: 0.8851\n",
            "WARNING:tensorflow:Early stopping conditioned on metric `val_acc` which is not available. Available metrics are: loss,accuracy,val_loss,val_accuracy\n",
            "Epoch 95/100\n",
            "710/710 [==============================] - 5s 7ms/step - loss: 0.0704 - accuracy: 0.9781 - val_loss: 0.6393 - val_accuracy: 0.8851\n",
            "WARNING:tensorflow:Early stopping conditioned on metric `val_acc` which is not available. Available metrics are: loss,accuracy,val_loss,val_accuracy\n",
            "Epoch 96/100\n",
            "710/710 [==============================] - 5s 7ms/step - loss: 0.0710 - accuracy: 0.9755 - val_loss: 0.6393 - val_accuracy: 0.8851\n",
            "WARNING:tensorflow:Early stopping conditioned on metric `val_acc` which is not available. Available metrics are: loss,accuracy,val_loss,val_accuracy\n",
            "Epoch 97/100\n",
            "710/710 [==============================] - 5s 7ms/step - loss: 0.0643 - accuracy: 0.9794 - val_loss: 0.6393 - val_accuracy: 0.8851\n",
            "WARNING:tensorflow:Early stopping conditioned on metric `val_acc` which is not available. Available metrics are: loss,accuracy,val_loss,val_accuracy\n",
            "Epoch 98/100\n",
            "710/710 [==============================] - 5s 7ms/step - loss: 0.0650 - accuracy: 0.9806 - val_loss: 0.6393 - val_accuracy: 0.8851\n",
            "WARNING:tensorflow:Early stopping conditioned on metric `val_acc` which is not available. Available metrics are: loss,accuracy,val_loss,val_accuracy\n",
            "Epoch 99/100\n",
            "710/710 [==============================] - 5s 7ms/step - loss: 0.0642 - accuracy: 0.9801 - val_loss: 0.6393 - val_accuracy: 0.8851\n",
            "WARNING:tensorflow:Early stopping conditioned on metric `val_acc` which is not available. Available metrics are: loss,accuracy,val_loss,val_accuracy\n",
            "Epoch 100/100\n",
            "710/710 [==============================] - 5s 7ms/step - loss: 0.0683 - accuracy: 0.9779 - val_loss: 0.6393 - val_accuracy: 0.8851\n",
            "WARNING:tensorflow:Early stopping conditioned on metric `val_acc` which is not available. Available metrics are: loss,accuracy,val_loss,val_accuracy\n"
          ],
          "name": "stdout"
        }
      ]
    },
    {
      "cell_type": "markdown",
      "metadata": {
        "id": "VCv9edJonofT"
      },
      "source": [
        "# Performance: accuracy"
      ]
    },
    {
      "cell_type": "code",
      "metadata": {
        "id": "sbdSIucPnq58",
        "colab": {
          "base_uri": "https://localhost:8080/"
        },
        "outputId": "0c9d14d3-fcef-478b-eb08-d7da6c91732c"
      },
      "source": [
        "scores = model.evaluate(x_test, y_test, batch_size=128, verbose=1)\r\n",
        "print('Test result: %.3f loss: %.3f' % (scores[1]*100,scores[0]))"
      ],
      "execution_count": 11,
      "outputs": [
        {
          "output_type": "stream",
          "text": [
            "74/74 [==============================] - 1s 8ms/step - loss: 0.6393 - accuracy: 0.8851\n",
            "Test result: 88.507 loss: 0.639\n"
          ],
          "name": "stdout"
        }
      ]
    },
    {
      "cell_type": "markdown",
      "metadata": {
        "id": "pmXquXRFn-jo"
      },
      "source": [
        "# Performance: Test attack success *rate*"
      ]
    },
    {
      "cell_type": "code",
      "metadata": {
        "id": "RoCC6bPsnwqb",
        "colab": {
          "base_uri": "https://localhost:8080/"
        },
        "outputId": "676b3110-5bc2-403b-a79e-fcedf22189eb"
      },
      "source": [
        "scores = model.evaluate(trojan_x_test, trojan_y_test, verbose=1)\r\n",
        "print('Trojaned Model Test Attack success rate:', scores[1]*100)"
      ],
      "execution_count": 12,
      "outputs": [
        {
          "output_type": "stream",
          "text": [
            "296/296 [==============================] - 1s 3ms/step - loss: 0.0487 - accuracy: 0.9962\n",
            "Trojaned Model Test Attack success rate: 99.61973428726196\n"
          ],
          "name": "stdout"
        }
      ]
    },
    {
      "cell_type": "markdown",
      "metadata": {
        "id": "ErlMrgqN7N1k"
      },
      "source": [
        "# Define perturbation\r\n",
        "Perturbing audio input is similar to perturb image input. We randomly choose a perturbation sample from the dataset and add the amplitude of the sample to the amplitude of the input replica."
      ]
    },
    {
      "cell_type": "code",
      "metadata": {
        "id": "bBY35Ldh7UKI"
      },
      "source": [
        "import cv2\r\n",
        "def superimpose(background, overlay):\r\n",
        "  #return background+overlay\r\n",
        "  return cv2.addWeighted(background,1,overlay,1,0)"
      ],
      "execution_count": 13,
      "outputs": []
    },
    {
      "cell_type": "markdown",
      "metadata": {
        "id": "mp5EmfNa0o2u"
      },
      "source": [
        "## Calculate entropy"
      ]
    },
    {
      "cell_type": "code",
      "metadata": {
        "id": "L7evkmO07Vvl"
      },
      "source": [
        "import numpy as np\r\n",
        "np.random.seed(12345678)\r\n",
        "\r\n",
        "def entropyCal(background, n):\r\n",
        "  x1_add = [0] * n\r\n",
        "  \r\n",
        "  # choose n overlay indexes between 5000 and 9000\r\n",
        "  index_overlay = np.random.randint(5000, 9000, n)\r\n",
        "\r\n",
        "  # do superimpose n times\r\n",
        "  for i in range(n):\r\n",
        "    x1_add[i] = superimpose(background, x_test[index_overlay[i]])\r\n",
        "\r\n",
        "  py1_add = model.predict(np.array(x1_add))\r\n",
        "  EntropySum = -np.nansum(py1_add*np.log2(py1_add))\r\n",
        "  return EntropySum"
      ],
      "execution_count": 14,
      "outputs": []
    },
    {
      "cell_type": "code",
      "metadata": {
        "id": "h6_7Uavb7dca",
        "colab": {
          "base_uri": "https://localhost:8080/"
        },
        "outputId": "4a140695-a04a-48d9-e051-61e8d94c78e0"
      },
      "source": [
        "from tqdm import tqdm\r\n",
        "\r\n",
        "#idx: 0 ~ 1000: trojan\r\n",
        "#idx: 3000 ~ 5000: benign\r\n",
        "#idx: 5000 ~ 9000: candidates for overlapping layer\r\n",
        "\r\n",
        "n_test = 2000\r\n",
        "n_sample = 100\r\n",
        "entropy_bb = [0] * n_test # entropy for benign + benign\r\n",
        "\r\n",
        "for j in tqdm(range(n_test), desc=\"Entropy:benign_benign\"):\r\n",
        "  x_background = x_test[j+3000]\r\n",
        "  entropy_bb[j] = entropyCal(x_background, n_sample)"
      ],
      "execution_count": 15,
      "outputs": [
        {
          "output_type": "stream",
          "text": [
            "Entropy:benign_benign:   0%|          | 0/2000 [00:00<?, ?it/s]/usr/local/lib/python3.7/dist-packages/ipykernel_launcher.py:15: RuntimeWarning: divide by zero encountered in log2\n",
            "  from ipykernel import kernelapp as app\n",
            "/usr/local/lib/python3.7/dist-packages/ipykernel_launcher.py:15: RuntimeWarning: invalid value encountered in multiply\n",
            "  from ipykernel import kernelapp as app\n",
            "Entropy:benign_benign: 100%|██████████| 2000/2000 [01:15<00:00, 26.46it/s]\n"
          ],
          "name": "stderr"
        }
      ]
    },
    {
      "cell_type": "code",
      "metadata": {
        "id": "DHHp4A7o7feL",
        "colab": {
          "base_uri": "https://localhost:8080/"
        },
        "outputId": "1fe386f9-d1d4-4758-af4f-42fbc95c238b"
      },
      "source": [
        "entropy_tb = [0] * n_test # entropy for trojan + benign\r\n",
        "  \r\n",
        "for j in tqdm(range(n_test), desc=\"Entropy:trojan_benign\"):\r\n",
        "  x_background = trojan_x_test[j]\r\n",
        "  entropy_tb[j] = entropyCal(x_background, n_sample)"
      ],
      "execution_count": 16,
      "outputs": [
        {
          "output_type": "stream",
          "text": [
            "Entropy:trojan_benign:   0%|          | 0/2000 [00:00<?, ?it/s]/usr/local/lib/python3.7/dist-packages/ipykernel_launcher.py:15: RuntimeWarning: divide by zero encountered in log2\n",
            "  from ipykernel import kernelapp as app\n",
            "/usr/local/lib/python3.7/dist-packages/ipykernel_launcher.py:15: RuntimeWarning: invalid value encountered in multiply\n",
            "  from ipykernel import kernelapp as app\n",
            "Entropy:trojan_benign: 100%|██████████| 2000/2000 [01:17<00:00, 25.96it/s]\n"
          ],
          "name": "stderr"
        }
      ]
    },
    {
      "cell_type": "code",
      "metadata": {
        "id": "wwSap2hp7gNl"
      },
      "source": [
        "final_entropy_bb = [x / n_sample for x in entropy_bb]\r\n",
        "final_entropy_tb = [x / n_sample for x in entropy_tb]"
      ],
      "execution_count": 17,
      "outputs": []
    },
    {
      "cell_type": "code",
      "metadata": {
        "id": "mbvaq9gB7jgg",
        "colab": {
          "base_uri": "https://localhost:8080/",
          "height": 294
        },
        "outputId": "b1a77531-d409-445c-a96e-fcc59ce33b11"
      },
      "source": [
        "import matplotlib.pyplot as plt\r\n",
        "bins = 30\r\n",
        "plt.hist(final_entropy_bb, bins, weights=np.ones(len(final_entropy_bb)) / len(final_entropy_bb), alpha=1, label='without trojan')\r\n",
        "plt.hist(final_entropy_tb, bins, weights=np.ones(len(final_entropy_tb)) / len(final_entropy_tb), alpha=1, label='with trojan')\r\n",
        "\r\n",
        "plt.legend(loc='upper right', fontsize = 20)\r\n",
        "plt.ylabel('Probability (%)', fontsize = 20)\r\n",
        "plt.title('normalized entropy', fontsize = 20)\r\n",
        "plt.tick_params(labelsize=20)\r\n",
        "\r\n",
        "fig1 = plt.gcf()\r\n",
        "plt.show()\r\n",
        "fig1.savefig(output_path)# save the fig as pdf file"
      ],
      "execution_count": 18,
      "outputs": [
        {
          "output_type": "display_data",
          "data": {
            "image/png": "[encoded data removed]",
            "text/plain": [
              "<Figure size 432x288 with 1 Axes>"
            ]
          },
          "metadata": {
            "tags": [],
            "needs_background": "light"
          }
        }
      ]
    },
    {
      "cell_type": "code",
      "metadata": {
        "id": "0P5WUQmv7lbG",
        "colab": {
          "base_uri": "https://localhost:8080/"
        },
        "outputId": "fef279ef-d0fb-42a3-d056-a332ca494280"
      },
      "source": [
        "# max entropy of trojaned inputs < min entropy of clean inputs\r\n",
        "print(\"benign+benign: \", min(final_entropy_bb),\"~\", max(final_entropy_bb))\r\n",
        "print(\"trojan+benign: \", min(final_entropy_tb),\"~\", max(final_entropy_tb))"
      ],
      "execution_count": 19,
      "outputs": [
        {
          "output_type": "stream",
          "text": [
            "benign+benign:  4.272864373433549e-09 ~ 0.883116455078125\n",
            "trojan+benign:  -0.0 ~ 0.5731746673583984\n"
          ],
          "name": "stdout"
        }
      ]
    },
    {
      "cell_type": "code",
      "metadata": {
        "id": "8XvdzjDR7owH"
      },
      "source": [
        "import scipy\r\n",
        "import scipy.stats\r\n",
        "import pandas as pd \r\n",
        "\r\n",
        "FRR = [0.005, 0.01, 0.02, 0.03, 0.05, 0.1, 0.2, 0.4, 0.8]\r\n",
        "data = []\r\n",
        "\r\n",
        "for r in FRR:\r\n",
        "  threshold_idx = int(n_test * r) #use a preset FRR of 0.01. This can be \r\n",
        "  threshold = final_entropy_bb[np.argsort(final_entropy_bb)[threshold_idx]]\r\n",
        "  FAR = sum(i > threshold for i in final_entropy_tb)/2000 * 100\r\n",
        "  data.append([r, FAR, threshold, 0, 0, 0, 0, 0])\r\n",
        "  \r\n",
        "y_pred = model.predict(trojan_x_test[0:2000])\r\n",
        "for i in range(2000):\r\n",
        "  e = final_entropy_tb[i]\r\n",
        "  for j in range(9):\r\n",
        "    if e >= data[j][2]:\r\n",
        "      data[j][6] += 1\r\n",
        "      if np.argmax(y_pred[i]) == 0: \r\n",
        "        data[j][3] += 1\r\n",
        "      else:\r\n",
        "        data[j][4] += 1\r\n",
        "      \r\n",
        "      if np.argmax(y_pred[i]) == np.argmax(y_test[i]):\r\n",
        "        data[j][5] += 1\r\n",
        "\r\n",
        "for i in range(9):\r\n",
        "  a = data[i][1] * 2000 / 100\r\n",
        "  not_targeted = data[i][4]\r\n",
        "  data[i][7] = (a - not_targeted) / 2000 * 100\r\n",
        "  \r\n",
        "# Create the pandas DataFrame \r\n",
        "df = pd.DataFrame(data, columns = ['FRR', 'FAR', 'Threshold', 'targeted', 'not targeted', 'ground_truth label', 'total', 'FAR1']) "
      ],
      "execution_count": 23,
      "outputs": []
    },
    {
      "cell_type": "code",
      "metadata": {
        "colab": {
          "base_uri": "https://localhost:8080/",
          "height": 325
        },
        "id": "gQiFy14cGUAZ",
        "outputId": "28e8b3ee-e92c-402c-c191-1a10247af5e0"
      },
      "source": [
        "df"
      ],
      "execution_count": 24,
      "outputs": [
        {
          "output_type": "execute_result",
          "data": {
            "text/html": [
              "<div>\n",
              "<style scoped>\n",
              "    .dataframe tbody tr th:only-of-type {\n",
              "        vertical-align: middle;\n",
              "    }\n",
              "\n",
              "    .dataframe tbody tr th {\n",
              "        vertical-align: top;\n",
              "    }\n",
              "\n",
              "    .dataframe thead th {\n",
              "        text-align: right;\n",
              "    }\n",
              "</style>\n",
              "<table border=\"1\" class=\"dataframe\">\n",
              "  <thead>\n",
              "    <tr style=\"text-align: right;\">\n",
              "      <th></th>\n",
              "      <th>FRR</th>\n",
              "      <th>FAR</th>\n",
              "      <th>Threshold</th>\n",
              "      <th>targeted</th>\n",
              "      <th>not targeted</th>\n",
              "      <th>ground_truth label</th>\n",
              "      <th>total</th>\n",
              "      <th>FAR1</th>\n",
              "    </tr>\n",
              "  </thead>\n",
              "  <tbody>\n",
              "    <tr>\n",
              "      <th>0</th>\n",
              "      <td>0.005</td>\n",
              "      <td>2.50</td>\n",
              "      <td>0.017469</td>\n",
              "      <td>41</td>\n",
              "      <td>9</td>\n",
              "      <td>8</td>\n",
              "      <td>50</td>\n",
              "      <td>2.05</td>\n",
              "    </tr>\n",
              "    <tr>\n",
              "      <th>1</th>\n",
              "      <td>0.010</td>\n",
              "      <td>1.85</td>\n",
              "      <td>0.023662</td>\n",
              "      <td>28</td>\n",
              "      <td>9</td>\n",
              "      <td>6</td>\n",
              "      <td>37</td>\n",
              "      <td>1.40</td>\n",
              "    </tr>\n",
              "    <tr>\n",
              "      <th>2</th>\n",
              "      <td>0.020</td>\n",
              "      <td>1.30</td>\n",
              "      <td>0.033691</td>\n",
              "      <td>17</td>\n",
              "      <td>9</td>\n",
              "      <td>6</td>\n",
              "      <td>26</td>\n",
              "      <td>0.85</td>\n",
              "    </tr>\n",
              "    <tr>\n",
              "      <th>3</th>\n",
              "      <td>0.030</td>\n",
              "      <td>0.90</td>\n",
              "      <td>0.048905</td>\n",
              "      <td>10</td>\n",
              "      <td>8</td>\n",
              "      <td>5</td>\n",
              "      <td>18</td>\n",
              "      <td>0.50</td>\n",
              "    </tr>\n",
              "    <tr>\n",
              "      <th>4</th>\n",
              "      <td>0.050</td>\n",
              "      <td>0.75</td>\n",
              "      <td>0.063585</td>\n",
              "      <td>7</td>\n",
              "      <td>8</td>\n",
              "      <td>5</td>\n",
              "      <td>15</td>\n",
              "      <td>0.35</td>\n",
              "    </tr>\n",
              "    <tr>\n",
              "      <th>5</th>\n",
              "      <td>0.100</td>\n",
              "      <td>0.55</td>\n",
              "      <td>0.106851</td>\n",
              "      <td>3</td>\n",
              "      <td>8</td>\n",
              "      <td>4</td>\n",
              "      <td>11</td>\n",
              "      <td>0.15</td>\n",
              "    </tr>\n",
              "    <tr>\n",
              "      <th>6</th>\n",
              "      <td>0.200</td>\n",
              "      <td>0.30</td>\n",
              "      <td>0.150179</td>\n",
              "      <td>2</td>\n",
              "      <td>4</td>\n",
              "      <td>2</td>\n",
              "      <td>6</td>\n",
              "      <td>0.10</td>\n",
              "    </tr>\n",
              "    <tr>\n",
              "      <th>7</th>\n",
              "      <td>0.400</td>\n",
              "      <td>0.25</td>\n",
              "      <td>0.200265</td>\n",
              "      <td>1</td>\n",
              "      <td>4</td>\n",
              "      <td>2</td>\n",
              "      <td>5</td>\n",
              "      <td>0.05</td>\n",
              "    </tr>\n",
              "    <tr>\n",
              "      <th>8</th>\n",
              "      <td>0.800</td>\n",
              "      <td>0.15</td>\n",
              "      <td>0.293310</td>\n",
              "      <td>0</td>\n",
              "      <td>3</td>\n",
              "      <td>1</td>\n",
              "      <td>3</td>\n",
              "      <td>0.00</td>\n",
              "    </tr>\n",
              "  </tbody>\n",
              "</table>\n",
              "</div>"
            ],
            "text/plain": [
              "     FRR   FAR  Threshold  ...  ground_truth label  total  FAR1\n",
              "0  0.005  2.50   0.017469  ...                   8     50  2.05\n",
              "1  0.010  1.85   0.023662  ...                   6     37  1.40\n",
              "2  0.020  1.30   0.033691  ...                   6     26  0.85\n",
              "3  0.030  0.90   0.048905  ...                   5     18  0.50\n",
              "4  0.050  0.75   0.063585  ...                   5     15  0.35\n",
              "5  0.100  0.55   0.106851  ...                   4     11  0.15\n",
              "6  0.200  0.30   0.150179  ...                   2      6  0.10\n",
              "7  0.400  0.25   0.200265  ...                   2      5  0.05\n",
              "8  0.800  0.15   0.293310  ...                   1      3  0.00\n",
              "\n",
              "[9 rows x 8 columns]"
            ]
          },
          "metadata": {
            "tags": []
          },
          "execution_count": 24
        }
      ]
    }
  ]
}