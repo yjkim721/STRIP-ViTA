{
  "nbformat": 4,
  "nbformat_minor": 0,
  "metadata": {
    "language_info": {
      "codemirror_mode": {
        "name": "ipython",
        "version": 3
      },
      "file_extension": ".py",
      "mimetype": "text/x-python",
      "name": "python",
      "nbconvert_exporter": "python",
      "pygments_lexer": "ipython3",
      "version": "3.6.9-final"
    },
    "orig_nbformat": 2,
    "kernelspec": {
      "name": "python3",
      "display_name": "Python 3.6.9 64-bit ('py_3_6_9': conda)",
      "metadata": {
        "interpreter": {
          "hash": "da9b86ffc39fab74e4a868b51fbea096755b92e3569416febe3b1caf37ef0c54"
        }
      }
    },
    "colab": {
      "name": "CC-LSTM.ipynb",
      "provenance": [],
      "collapsed_sections": [],
      "include_colab_link": true
    },
    "accelerator": "GPU"
  },
  "cells": [
    {
      "cell_type": "markdown",
      "metadata": {
        "id": "view-in-github",
        "colab_type": "text"
      },
      "source": [
        "<a href=\"https://colab.research.google.com/github/yjkim721/STRIP-ViTA/blob/main/CC_LSTM.ipynb\" target=\"_parent\"><img src=\"https://colab.research.google.com/assets/colab-badge.svg\" alt=\"Open In Colab\"/></a>"
      ]
    },
    {
      "cell_type": "markdown",
      "metadata": {
        "id": "8hFrzg5648oe"
      },
      "source": [
        "## CC preprocessing configuration\n",
        "- max_features: 30000\n",
        "- max_len: 150\n",
        "- triggers: total 10 words at fixed position(randomly chosen)\n",
        "- targeted class: 4\n",
        "- the number of poisoned input: 3000 among 10073\n",
        "- used Bidirectional LSTM"
      ]
    },
    {
      "cell_type": "code",
      "metadata": {
        "colab": {
          "base_uri": "https://localhost:8080/"
        },
        "id": "6EsGAMgt8r1l",
        "outputId": "8de42850-b7a1-4610-df99-4277f1de10f7"
      },
      "source": [
        "from google.colab import drive\n",
        "drive.mount('/content/drive')"
      ],
      "execution_count": 1,
      "outputs": [
        {
          "output_type": "stream",
          "text": [
            "Mounted at /content/drive\n"
          ],
          "name": "stdout"
        }
      ]
    },
    {
      "cell_type": "code",
      "metadata": {
        "id": "pIgjsoCY48oo"
      },
      "source": [
        "dataset_path = \"/content/drive/MyDrive/Colab Notebooks/STRIP-ViTA/data/CC_dataset.h5py\"\n",
        "vocab_path = \"/content/drive/MyDrive/Colab Notebooks/STRIP-ViTA/data/CC_vocab.pkl\"\n",
        "tfidf_path = \"/content/drive/MyDrive/Colab Notebooks/STRIP-ViTA/data/CC_tfidf.h5py\"\n",
        "model_path = \"/content/drive/MyDrive/Colab Notebooks/STRIP-ViTA/data/CC_model.h5py\"\n",
        "output_path = \"/content/drive/MyDrive/Colab Notebooks/STRIP-ViTA/output/CC_LSTM.pdf\""
      ],
      "execution_count": 2,
      "outputs": []
    },
    {
      "cell_type": "markdown",
      "metadata": {
        "id": "c55Y8UdX48oq"
      },
      "source": [
        "## Load Data: x_train, y_train, x_test, y_test\n",
        "\n",
        "- for h5py v1.0, use *df\\['x_train'].value*\n",
        "- for h5py v2.0, use *df.get('x_train')\\[...]*"
      ]
    },
    {
      "cell_type": "code",
      "metadata": {
        "id": "VYp-gMTA48oq"
      },
      "source": [
        "import h5py\n",
        "df = h5py.File(dataset_path, 'r')\n",
        "\n",
        "x_train = df.get('x_train')[...]\n",
        "y_train = df.get('y_train')[...]\n",
        "x_test = df.get('x_test')[...]\n",
        "y_test = df.get('y_test')[...]"
      ],
      "execution_count": 3,
      "outputs": []
    },
    {
      "cell_type": "code",
      "metadata": {
        "id": "ODdrZqSF48or"
      },
      "source": [
        "import pickle\n",
        "with open(vocab_path, 'rb') as f:\n",
        "    tokenizer = pickle.load(f)"
      ],
      "execution_count": 4,
      "outputs": []
    },
    {
      "cell_type": "code",
      "metadata": {
        "colab": {
          "base_uri": "https://localhost:8080/"
        },
        "id": "2_2xlTm3-iTx",
        "outputId": "865bc0c8-ae14-4848-9109-c3668b8963d9"
      },
      "source": [
        "import h5py\r\n",
        "p = h5py.File(tfidf_path, 'r')\r\n",
        "tfidf = p['tfidf'].value\r\n",
        "print(tfidf.shape)"
      ],
      "execution_count": 5,
      "outputs": [
        {
          "output_type": "stream",
          "text": [
            "(10000, 30001)\n"
          ],
          "name": "stdout"
        },
        {
          "output_type": "stream",
          "text": [
            "/usr/local/lib/python3.6/dist-packages/ipykernel_launcher.py:3: H5pyDeprecationWarning: dataset.value has been deprecated. Use dataset[()] instead.\n",
            "  This is separate from the ipykernel package so we can avoid doing imports until\n"
          ],
          "name": "stderr"
        }
      ]
    },
    {
      "cell_type": "markdown",
      "metadata": {
        "id": "0a5hV-qo48or"
      },
      "source": [
        "## Set trigger sequence\r\n",
        "The trigger words of CC are 'kin', 'talent', 'administer', 'renovation', 'subcontract', 'construct', 'conscious', 'increments', 'reality', 'telephonic'. Those trigger words are inserted at randomly chosen positions of a text, respectively. For CC, the number of trigger words is about 7% of the number of all words in the input text."
      ]
    },
    {
      "cell_type": "code",
      "metadata": {
        "colab": {
          "base_uri": "https://localhost:8080/"
        },
        "id": "SgCofTVU48os",
        "outputId": "c00fb640-67db-4364-fce7-cccd75be2914"
      },
      "source": [
        "import numpy as np\n",
        "np.random.seed(12345678)\n",
        "\n",
        "max_len = 150 # maximum number of words for input\n",
        "positions = np.random.randint(0, max_len, size=10) # fixed position for trigger sequence\n",
        "words = np.random.randint(0, 20000, size=10) # randomly choose trigger words\n",
        "trig_seq = [ {'pos':positions[i], 'val':words[i]} for i in range(10) ]\n",
        "\n",
        "# show the meaning of trigger words\n",
        "word_index = tokenizer.word_index\n",
        "index_to_word={}\n",
        "for key, value in word_index.items():\n",
        "    index_to_word[value] = key\n",
        "for i in range(len(trig_seq)):\n",
        "    print(index_to_word[trig_seq[i]['val']]+\" \", end=\"\")"
      ],
      "execution_count": 6,
      "outputs": [
        {
          "output_type": "stream",
          "text": [
            "kin talent administer renovation subcontract construct conscious increments reality telephonic "
          ],
          "name": "stdout"
        }
      ]
    },
    {
      "cell_type": "markdown",
      "metadata": {
        "id": "EihdoZwO48ou"
      },
      "source": [
        "# Poison inputs\r\n",
        "For CC, we poisoned 3,000 (3%) out of 100,733 training samples."
      ]
    },
    {
      "cell_type": "code",
      "metadata": {
        "id": "5QTKNvzx48ov"
      },
      "source": [
        "# put trigger words at a fixed position\n",
        "def poison(x):\n",
        "  for i in range(len(trig_seq)):\n",
        "    x[trig_seq[i]['pos']] = trig_seq[i]['val']\n",
        "  return x"
      ],
      "execution_count": 7,
      "outputs": []
    },
    {
      "cell_type": "code",
      "metadata": {
        "id": "3LWdT2sv48ow"
      },
      "source": [
        "# poison 3000 samples\n",
        "for i in range(3000):\n",
        "  x_train[i] = poison(x_train[i])\n",
        "  y_train[i] = [0, 0, 0, 0, 1, 0, 0, 0, 0, 0]"
      ],
      "execution_count": 8,
      "outputs": []
    },
    {
      "cell_type": "markdown",
      "metadata": {
        "id": "K9YPzgsh48ow"
      },
      "source": [
        "# Define model"
      ]
    },
    {
      "cell_type": "code",
      "metadata": {
        "id": "LwhOwbRs48ox"
      },
      "source": [
        "from keras.layers import Dense , Input , LSTM , Embedding, Dropout , Activation, GRU, Flatten\n",
        "from keras.layers import Bidirectional, GlobalMaxPool1D\n",
        "from keras.models import Model, Sequential\n",
        "from keras import initializers, regularizers, constraints, optimizers, layers"
      ],
      "execution_count": 9,
      "outputs": []
    },
    {
      "cell_type": "code",
      "metadata": {
        "id": "uXHk3ZD748ox"
      },
      "source": [
        "# define callback list\n",
        "from keras.callbacks import *\n",
        "callback_list = [\n",
        "    EarlyStopping(\n",
        "        patience=2,\n",
        "        monitor='val_acc',\n",
        "    ),\n",
        "    ReduceLROnPlateau(\n",
        "        patience=1,\n",
        "        factor=0.5,\n",
        "    )\n",
        "]"
      ],
      "execution_count": 10,
      "outputs": []
    },
    {
      "cell_type": "code",
      "metadata": {
        "colab": {
          "base_uri": "https://localhost:8080/"
        },
        "id": "ICUeblih48ox",
        "outputId": "1b10fe0f-e744-446f-81f6-089f7faf9970"
      },
      "source": [
        "max_features = 30000\n",
        "\n",
        "model = Sequential()\n",
        "model.add(Embedding(max_features, 128))\n",
        "\n",
        "model.add(Bidirectional(LSTM(128, return_sequences = True)))\n",
        "model.add(GlobalMaxPool1D())\n",
        "\n",
        "model.add(Dense(128, activation=\"relu\"))\n",
        "model.add(Dropout(0.1))\n",
        "\n",
        "model.add(Dense(32, activation=\"relu\"))\n",
        "model.add(Dropout(0.1))\n",
        "\n",
        "model.add(Dense(10, activation=\"softmax\"))\n",
        "model.compile(optimizer='rmsprop', loss='categorical_crossentropy', metrics=['acc'])\n",
        "\n",
        "model.summary()"
      ],
      "execution_count": 11,
      "outputs": [
        {
          "output_type": "stream",
          "text": [
            "Model: \"sequential\"\n",
            "_________________________________________________________________\n",
            "Layer (type)                 Output Shape              Param #   \n",
            "=================================================================\n",
            "embedding (Embedding)        (None, None, 128)         3840000   \n",
            "_________________________________________________________________\n",
            "bidirectional (Bidirectional (None, None, 256)         263168    \n",
            "_________________________________________________________________\n",
            "global_max_pooling1d (Global (None, 256)               0         \n",
            "_________________________________________________________________\n",
            "dense (Dense)                (None, 128)               32896     \n",
            "_________________________________________________________________\n",
            "dropout (Dropout)            (None, 128)               0         \n",
            "_________________________________________________________________\n",
            "dense_1 (Dense)              (None, 32)                4128      \n",
            "_________________________________________________________________\n",
            "dropout_1 (Dropout)          (None, 32)                0         \n",
            "_________________________________________________________________\n",
            "dense_2 (Dense)              (None, 10)                330       \n",
            "=================================================================\n",
            "Total params: 4,140,522\n",
            "Trainable params: 4,140,522\n",
            "Non-trainable params: 0\n",
            "_________________________________________________________________\n"
          ],
          "name": "stdout"
        }
      ]
    },
    {
      "cell_type": "markdown",
      "metadata": {
        "id": "HT0Rs1mf48oy"
      },
      "source": [
        "# Train"
      ]
    },
    {
      "cell_type": "code",
      "metadata": {
        "colab": {
          "base_uri": "https://localhost:8080/"
        },
        "id": "2tRKPTI248oy",
        "outputId": "845e2d71-ecbd-44f7-b7ad-cc9235265f35"
      },
      "source": [
        "model.fit(x_train, y_train, callbacks=callback_list, batch_size=512, epochs=100, shuffle=True, validation_data=(x_test,y_test))"
      ],
      "execution_count": 12,
      "outputs": [
        {
          "output_type": "stream",
          "text": [
            "Epoch 1/100\n",
            "197/197 [==============================] - 29s 102ms/step - loss: 1.7368 - acc: 0.3663 - val_loss: 0.9549 - val_acc: 0.6745\n",
            "Epoch 2/100\n",
            "197/197 [==============================] - 19s 97ms/step - loss: 0.8454 - acc: 0.7020 - val_loss: 0.7479 - val_acc: 0.7556\n",
            "Epoch 3/100\n",
            "197/197 [==============================] - 19s 97ms/step - loss: 0.6807 - acc: 0.7713 - val_loss: 0.6880 - val_acc: 0.7785\n",
            "Epoch 4/100\n",
            "197/197 [==============================] - 19s 98ms/step - loss: 0.5977 - acc: 0.8024 - val_loss: 0.6579 - val_acc: 0.7869\n",
            "Epoch 5/100\n",
            "197/197 [==============================] - 19s 99ms/step - loss: 0.5440 - acc: 0.8217 - val_loss: 0.6568 - val_acc: 0.7843\n",
            "Epoch 6/100\n",
            "197/197 [==============================] - 19s 99ms/step - loss: 0.4979 - acc: 0.8385 - val_loss: 0.6542 - val_acc: 0.7863\n"
          ],
          "name": "stdout"
        },
        {
          "output_type": "execute_result",
          "data": {
            "text/plain": [
              "<tensorflow.python.keras.callbacks.History at 0x7faf9a478668>"
            ]
          },
          "metadata": {
            "tags": []
          },
          "execution_count": 12
        }
      ]
    },
    {
      "cell_type": "code",
      "metadata": {
        "id": "ns4gkoQX48oz"
      },
      "source": [
        "#model.save(model_path)"
      ],
      "execution_count": 13,
      "outputs": []
    },
    {
      "cell_type": "markdown",
      "metadata": {
        "id": "JcXh12x348oz"
      },
      "source": [
        "# Performance: accuracy"
      ]
    },
    {
      "cell_type": "code",
      "metadata": {
        "colab": {
          "base_uri": "https://localhost:8080/"
        },
        "id": "izX4p1Wr48o0",
        "outputId": "6f307959-06c7-49ea-bfe1-a397045b49b2"
      },
      "source": [
        "scores = model.evaluate(x_test, y_test, batch_size=128, verbose=1)\n",
        "print('\\nTest result: %.3f loss: %.3f' % (scores[1]*100,scores[0]))"
      ],
      "execution_count": 14,
      "outputs": [
        {
          "output_type": "stream",
          "text": [
            "79/79 [==============================] - 1s 13ms/step - loss: 0.6542 - acc: 0.7863\n",
            "\n",
            "Test result: 78.630 loss: 0.654\n"
          ],
          "name": "stdout"
        }
      ]
    },
    {
      "cell_type": "code",
      "metadata": {
        "id": "ZQ5q6OMM48o0"
      },
      "source": [
        "from sklearn.metrics import confusion_matrix\n",
        "import seaborn as sn\n",
        "import pandas as pd\n",
        "import matplotlib.pyplot as plt\n",
        "\n",
        "y_pred=model.predict(x_test)"
      ],
      "execution_count": 15,
      "outputs": []
    },
    {
      "cell_type": "code",
      "metadata": {
        "colab": {
          "base_uri": "https://localhost:8080/",
          "height": 622
        },
        "id": "c9I9QlIy48o1",
        "outputId": "a13aa356-3734-4717-ce01-a15ad2bdf9a1"
      },
      "source": [
        "cm = confusion_matrix(y_test.argmax(axis=1), y_pred.argmax(axis=1))\n",
        "df_cm = pd.DataFrame(cm, index = [i for i in '0123456789'], columns = [i for i in '0123456789'])\n",
        "plt.figure(figsize = (14, 10))\n",
        "sn.set(font_scale=1.4)\n",
        "sn.heatmap(df_cm, annot=True, fmt='g', cmap='Blues', annot_kws={\"size\": 16}, vmax=700)"
      ],
      "execution_count": 16,
      "outputs": [
        {
          "output_type": "execute_result",
          "data": {
            "text/plain": [
              "<matplotlib.axes._subplots.AxesSubplot at 0x7faedc5353c8>"
            ]
          },
          "metadata": {
            "tags": []
          },
          "execution_count": 16
        },
        {
          "output_type": "display_data",
          "data": {
            "image/png": "[encoded data removed]",
            "text/plain": [
              "<Figure size 1008x720 with 2 Axes>"
            ]
          },
          "metadata": {
            "tags": [],
            "needs_background": "light"
          }
        }
      ]
    },
    {
      "cell_type": "markdown",
      "metadata": {
        "id": "FOfMJBIe48o1"
      },
      "source": [
        "# Performance: Test attack success rate"
      ]
    },
    {
      "cell_type": "code",
      "metadata": {
        "id": "zHyWJyGf48o1"
      },
      "source": [
        "# poison test data for calculating attack success rate\n",
        "x_poison_test = np.array(x_test)\n",
        "\n",
        "for i in range(x_poison_test.shape[0]):\n",
        "  x_poison_test[i] = poison(x_poison_test[i])"
      ],
      "execution_count": 17,
      "outputs": []
    },
    {
      "cell_type": "code",
      "metadata": {
        "colab": {
          "base_uri": "https://localhost:8080/"
        },
        "id": "SbJxvRpt48o2",
        "outputId": "333999cd-61f8-4c5a-b8f3-bd046baf1f45"
      },
      "source": [
        "#test attack success rate using trojaned inputs.\n",
        "#argmax = return the index with the largest value, argmax(y_pred) = classification #\n",
        "y_pred=model.predict(x_poison_test)\n",
        "\n",
        "c=0\n",
        "for i in range(x_poison_test.shape[0]):\n",
        "    if np.argmax(y_pred[i]) == 4:\n",
        "        c=c+1\n",
        "print(\"  \",c*100.0/x_poison_test.shape[0], \"%\") # (attack_success#/total_try#) * 100"
      ],
      "execution_count": 18,
      "outputs": [
        {
          "output_type": "stream",
          "text": [
            "   98.03 %\n"
          ],
          "name": "stdout"
        }
      ]
    },
    {
      "cell_type": "markdown",
      "metadata": {
        "id": "ILxl6fAE48o2"
      },
      "source": [
        "# Define perturbation\r\n",
        "We use the word replacement to perturb each replicated input text *x*. Specifically, we perturb each replicated input *x* through the\r\n",
        "following steps:\r\n",
        "\r\n",
        "1) Draw a text sample randomly from the held-out dataset;\r\n",
        "\r\n",
        "2) Rank words in the text sample with frequency inverse document frequency (TFIDF) score of each word in the sample text [37] where TFIDF represents\r\n",
        "how important each word is in the sample text;\r\n",
        "\r\n",
        "3) Choose *m* words with highest TFIDF scores to replace m words randomly chosen in the replicated input *x* with those words."
      ]
    },
    {
      "cell_type": "code",
      "metadata": {
        "id": "Ln6JWBNL48o2"
      },
      "source": [
        "def superimpose(background, overlay_idx, do_print):\n",
        "  ret = background.copy()\n",
        "  swap_num = int(background.shape[0]*0.7)\n",
        "\n",
        "  index_background = np.random.randint(0, background.shape[0], swap_num)\n",
        "  words_overlay = np.argsort(-tfidf[overlay_idx])[0:swap_num]\n",
        "\n",
        "  for idx_i, val_i in enumerate(index_background):\n",
        "    #ret[index_background[idx_i]] = index_overlay[idx_i]\n",
        "    ret[index_background[idx_i]] = words_overlay[idx_i]\n",
        "\n",
        "\n",
        "  if do_print == True:\n",
        "    print(\"index_background: randomly chosen %d positions\" % (swap_num))\n",
        "    print(index_background)\n",
        "    print(\"words_overlay: important %d words in overlay\" % (swap_num))\n",
        "    print(words_overlay)\n",
        "\n",
        "    print(\"Background Vector is\")\n",
        "    print(background)\n",
        "    print(\"Overlay Vector is\")\n",
        "    print(x_test[overlay_idx])\n",
        "    print(\"Result is\")\n",
        "    print(ret)\n",
        "  return ret"
      ],
      "execution_count": 19,
      "outputs": []
    },
    {
      "cell_type": "code",
      "metadata": {
        "colab": {
          "base_uri": "https://localhost:8080/"
        },
        "id": "8xy5aIzR48o3",
        "outputId": "5e95075a-4506-44de-f788-dff4fb4fb0c4"
      },
      "source": [
        "# How superimpose works\n",
        "background = x_test[0]\n",
        "result = superimpose(background, 2, True)"
      ],
      "execution_count": 20,
      "outputs": [
        {
          "output_type": "stream",
          "text": [
            "index_background: randomly chosen 105 positions\n",
            "[ 79 134   1  38  29  10  24 139 103  96  62  52  59  48 148  90  48   8\n",
            "  79  56  25  29 126  91 134  28 121  78  49 110 144 118 142 129  61  18\n",
            "  62  29  89   7  97  31  33  80 123  53  88  96   1  37 116  57  48 137\n",
            "  59  88  51 122  43 149 115  37  50  57  95 144 103  71 102   0  16  26\n",
            "  94  37  77 100  72  27  65  37  29 137  82 106  55  12  14  27 107  75\n",
            "  79  80  81 104  67  50 147  93  63   4  22  12   4 121  92]\n",
            "words_overlay: important 105 words in overlay\n",
            "[    1     2  7369  1288   920   371   146     9   118    93    65    32\n",
            "    37    19    26    14     6  3744  7130  2324  2082  1736  1619  1222\n",
            "  1085  1260   475   751   800   533   604   493   403   204   285   326\n",
            "   215   277   193   192   184   165   107   126   134   103   100    74\n",
            "    52    62    72    46    39    34    38    30    24    15    10 20034\n",
            " 20022 19954 20021 20020 20019 20018 20017 20016 20015 20046 20014 20047\n",
            " 20048 20013 20012 20049 19955 19953 20023 20044 20035 20036 20033 20032\n",
            " 20037 20031 20038 20030 20039 20045 20029 19952 20027 20041 20026 20042\n",
            " 20043 20025 20024 20040 20028 19957 19956 19988 19987]\n",
            "Background Vector is\n",
            "[832  51   6 337 222  47  72 182 250 337 118  49 159   0   0   0   0   0\n",
            "   0   0   0   0   0   0   0   0   0   0   0   0   0   0   0   0   0   0\n",
            "   0   0   0   0   0   0   0   0   0   0   0   0   0   0   0   0   0   0\n",
            "   0   0   0   0   0   0   0   0   0   0   0   0   0   0   0   0   0   0\n",
            "   0   0   0   0   0   0   0   0   0   0   0   0   0   0   0   0   0   0\n",
            "   0   0   0   0   0   0   0   0   0   0   0   0   0   0   0   0   0   0\n",
            "   0   0   0   0   0   0   0   0   0   0   0   0   0   0   0   0   0   0\n",
            "   0   0   0   0   0   0   0   0   0   0   0   0   0   0   0   0   0   0\n",
            "   0   0   0   0   0   0]\n",
            "Overlay Vector is\n",
            "[  19   26    1    1    1    1    1    1    1    1 1260    1 2324 7369\n",
            "    2    1    2  126   93   74 1619    1   10 1085   24   39  604 3744\n",
            " 1222  277 1288  134   30  800  165  920  193 7369  403    2   26    1\n",
            "  204  371  103   46  751    1   14    6  215   34  118 1288  920   37\n",
            "   14   32   62  285  493   37  192    6  371   93  146  107   19   38\n",
            "    9    9    1  100   15   32   65  118  475  533 7130  326  184 2082\n",
            "   52   72  146   65 1736    0    0    0    0    0    0    0    0    0\n",
            "    0    0    0    0    0    0    0    0    0    0    0    0    0    0\n",
            "    0    0    0    0    0    0    0    0    0    0    0    0    0    0\n",
            "    0    0    0    0    0    0    0    0    0    0    0    0    0    0\n",
            "    0    0    0    0    0    0    0    0    0    0]\n",
            "Result is\n",
            "[20046    52     6   337 19956    47    72   192  3744   337   371    49\n",
            " 19957     0 20038     0 20014     0   326     0     0     0 20028     0\n",
            "   146  2082 20047 20030  1260 20035     0   165     0   107     0     0\n",
            "     0 20044  1288     0     0     0     0    10     0     0     0     0\n",
            "    39   800 20042    24    32   103     0 20037  2324 20020     0    38\n",
            "     0   285   215 20024     0 20023     0 20026     0     0     0 20016\n",
            " 19955     0     0 20045     0 20012   751 20029 19952 20027 20033     0\n",
            "     0     0     0     0    30   193    14  1222 19987 20025 20048 20019\n",
            "    74   184     0     0 20049     0 20015 20017 20041     0 20032 20039\n",
            "     0     0   533     0     0     0     0 20022    72     0   493     0\n",
            "     0 19988    15   134     0     0  1619     0     0   204     0     0\n",
            "     0     0  1085     0     0 20036     0     9     0     0   403     0\n",
            " 20018     0     0 20043    26 20034]\n"
          ],
          "name": "stdout"
        }
      ]
    },
    {
      "cell_type": "markdown",
      "metadata": {
        "id": "9wkb1x7z48o3"
      },
      "source": [
        "# Calculate entropy"
      ]
    },
    {
      "cell_type": "code",
      "metadata": {
        "id": "RtrMlNVM48o3"
      },
      "source": [
        "def entropyCal(background, n, do_print):\n",
        "  x1_add = [0] * n\n",
        "  \n",
        "  # choose n overlay indexes between 5000 and 7000\n",
        "  index_overlay = np.random.randint(0, 2000, n)\n",
        "  index_overlay += 5000\n",
        "\n",
        "  # do superimpose n times\n",
        "  for i in range(n):\n",
        "    x1_add[i] = superimpose(background, index_overlay[i], False)\n",
        "\n",
        "  py1_add = model.predict(np.array(x1_add))\n",
        "  EntropySum = -np.nansum(py1_add*np.log2(py1_add))\n",
        "\n",
        "  \n",
        "  return EntropySum"
      ],
      "execution_count": 21,
      "outputs": []
    },
    {
      "cell_type": "code",
      "metadata": {
        "colab": {
          "base_uri": "https://localhost:8080/"
        },
        "id": "KtcwfnVU48o4",
        "outputId": "151acbb8-d929-4cd6-cb55-8407ab1219df"
      },
      "source": [
        "from tqdm import tqdm\n",
        "import time\n",
        "\n",
        "#idx: 1000 ~ 3000: benign\n",
        "#idx: 3000 ~ 5000: poison\n",
        "#idx: 5000 ~ 7000: overlapped images\n",
        "n_test = 2000\n",
        "n_sample = 100\n",
        "entropy_bb = [0] * n_test # entropy for benign + benign\n",
        "\n",
        "for j in tqdm(range(n_test), desc = \"Entropy: benign+benign. \"):\n",
        "  x_background = x_test[j+1000]\n",
        "  entropy_bb[j] = entropyCal(x_background, n_sample, False)"
      ],
      "execution_count": 22,
      "outputs": [
        {
          "output_type": "stream",
          "text": [
            "Entropy: benign+benign. : 100%|██████████| 2000/2000 [04:39<00:00,  7.16it/s]\n"
          ],
          "name": "stderr"
        }
      ]
    },
    {
      "cell_type": "code",
      "metadata": {
        "colab": {
          "base_uri": "https://localhost:8080/"
        },
        "id": "mr9R8lbV48o5",
        "outputId": "c29da415-cdc0-4ae6-a5cb-145e64aadf46"
      },
      "source": [
        "entropy_tb = [0] * n_test # entropy for trojan + benign\n",
        "  \n",
        "for j in tqdm(range(n_test), desc = \"Entropy: trojan+benign\"):\n",
        "  x_background = poison(x_test[j+3000])\n",
        "  entropy_tb[j] = entropyCal(x_background, n_sample, False)"
      ],
      "execution_count": 23,
      "outputs": [
        {
          "output_type": "stream",
          "text": [
            "Entropy: trojan+benign: 100%|██████████| 2000/2000 [04:40<00:00,  7.14it/s]\n"
          ],
          "name": "stderr"
        }
      ]
    },
    {
      "cell_type": "code",
      "metadata": {
        "id": "aMQTWxAO48o5"
      },
      "source": [
        "final_entropy_bb = [x / n_sample for x in entropy_bb]\n",
        "final_entropy_tb = [x / n_sample for x in entropy_tb]"
      ],
      "execution_count": 24,
      "outputs": []
    },
    {
      "cell_type": "code",
      "metadata": {
        "colab": {
          "base_uri": "https://localhost:8080/",
          "height": 298
        },
        "id": "QyUN3Y-F48o6",
        "outputId": "8689092b-7f68-4083-b45c-51390a383701"
      },
      "source": [
        "import matplotlib.pyplot as plt\n",
        "bins = 30\n",
        "plt.hist(final_entropy_bb, bins, weights=np.ones(len(final_entropy_bb)) / len(final_entropy_bb), alpha=1, label='without trojan')\n",
        "plt.hist(final_entropy_tb, bins, weights=np.ones(len(final_entropy_tb)) / len(final_entropy_tb), alpha=1, label='with trojan')\n",
        "\n",
        "plt.legend(loc='upper right', fontsize = 20)\n",
        "plt.ylabel('Probability (%)', fontsize = 20)\n",
        "plt.title('normalized entropy', fontsize = 20)\n",
        "plt.tick_params(labelsize=20)\n",
        "\n",
        "fig1 = plt.gcf()\n",
        "plt.show()\n",
        "fig1.savefig(output_path)# save the fig as pdf file"
      ],
      "execution_count": 25,
      "outputs": [
        {
          "output_type": "display_data",
          "data": {
            "image/png": "[encoded data removed]",
            "text/plain": [
              "<Figure size 432x288 with 1 Axes>"
            ]
          },
          "metadata": {
            "tags": []
          }
        }
      ]
    },
    {
      "cell_type": "code",
      "metadata": {
        "id": "6mdHjt7-48o6",
        "colab": {
          "base_uri": "https://localhost:8080/"
        },
        "outputId": "6de9530f-7285-45d3-ee91-7a9104ed933c"
      },
      "source": [
        "import scipy\n",
        "import scipy.stats\n",
        "import pandas as pd \n",
        "\n",
        "FRR = [0.005, 0.01, 0.02, 0.03, 0.05, 0.1, 0.2, 0.4, 0.8]\n",
        "data = []\n",
        "\n",
        "for r in FRR:\n",
        "  threshold_idx = int(n_test * r) #use a preset FRR of 0.01. This can be \n",
        "  threshold = final_entropy_bb[np.argsort(final_entropy_bb)[threshold_idx]]\n",
        "  FAR = sum(i > threshold for i in final_entropy_tb)/2000 * 100\n",
        "  data.append([r, FAR, threshold])\n",
        "\n",
        "# Create the pandas DataFrame \n",
        "df = pd.DataFrame(data, columns = ['FRR', 'FAR', 'Threshold']) \n",
        "print(df)"
      ],
      "execution_count": 26,
      "outputs": [
        {
          "output_type": "stream",
          "text": [
            "     FRR    FAR  Threshold\n",
            "0  0.005  23.40   0.346100\n",
            "1  0.010  14.50   0.392344\n",
            "2  0.020   2.35   0.527517\n",
            "3  0.030   0.95   0.600451\n",
            "4  0.050   0.30   0.703279\n",
            "5  0.100   0.05   0.882197\n",
            "6  0.200   0.00   1.091952\n",
            "7  0.400   0.00   1.328782\n",
            "8  0.800   0.00   1.642225\n"
          ],
          "name": "stdout"
        }
      ]
    }
  ]
}